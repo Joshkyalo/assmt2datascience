{
 "cells": [
  {
   "cell_type": "markdown",
   "metadata": {
    "papermill": {
     "duration": 0.032283,
     "end_time": "2020-11-05T19:49:48.292566",
     "exception": false,
     "start_time": "2020-11-05T19:49:48.260283",
     "status": "completed"
    },
    "tags": []
   },
   "source": [
    "# Getting Started"
   ]
  },
  {
   "cell_type": "code",
   "execution_count": 1,
   "metadata": {
    "_cell_guid": "79c7e3d0-c299-4dcb-8224-4455121ee9b0",
    "_uuid": "d629ff2d2480ee46fbb7e2d37f6b5fab8052498a",
    "papermill": {
     "duration": 7.153388,
     "end_time": "2020-11-05T19:49:55.475785",
     "exception": false,
     "start_time": "2020-11-05T19:49:48.322397",
     "status": "completed"
    },
    "tags": []
   },
   "outputs": [],
   "source": [
    "import numpy as np\n",
    "import pandas as pd\n",
    "from matplotlib import pyplot as plt\n",
    "import statsmodels.api as sm\n",
    "\n",
    "from sklearn.preprocessing import StandardScaler"
   ]
  },
  {
   "cell_type": "code",
   "execution_count": 2,
   "metadata": {
    "papermill": {
     "duration": 5.196097,
     "end_time": "2020-11-05T19:50:00.701863",
     "exception": false,
     "start_time": "2020-11-05T19:49:55.505766",
     "status": "completed"
    },
    "tags": []
   },
   "outputs": [
    {
     "name": "stdout",
     "output_type": "stream",
     "text": [
      "<class 'pandas.core.frame.DataFrame'>\n",
      "RangeIndex: 438700 entries, 0 to 438699\n",
      "Data columns (total 46 columns):\n",
      " #   Column                   Non-Null Count   Dtype  \n",
      "---  ------                   --------------   -----  \n",
      " 0   Severity                 438700 non-null  int64  \n",
      " 1   Start_Lat                438700 non-null  float64\n",
      " 2   Start_Lng                438700 non-null  float64\n",
      " 3   End_Lat                  438700 non-null  float64\n",
      " 4   End_Lng                  438700 non-null  float64\n",
      " 5   Distance(mi)             438700 non-null  float64\n",
      " 6   Side                     438700 non-null  object \n",
      " 7   City                     438700 non-null  object \n",
      " 8   County                   438700 non-null  object \n",
      " 9   State                    438700 non-null  object \n",
      " 10  Zipcode                  438700 non-null  object \n",
      " 11  Timezone                 438700 non-null  object \n",
      " 12  Airport_Code             438700 non-null  object \n",
      " 13  Temperature(F)           438700 non-null  float64\n",
      " 14  Humidity(%)              438700 non-null  int64  \n",
      " 15  Pressure(in)             438700 non-null  float64\n",
      " 16  Visibility(mi)           438700 non-null  float64\n",
      " 17  Wind_Direction           438700 non-null  object \n",
      " 18  Wind_Speed(mph)          438700 non-null  float64\n",
      " 19  Precipitation(in)        438700 non-null  float64\n",
      " 20  Weather_Condition        438700 non-null  object \n",
      " 21  Amenity                  438700 non-null  bool   \n",
      " 22  Bump                     438700 non-null  bool   \n",
      " 23  Crossing                 438700 non-null  bool   \n",
      " 24  Give_Way                 438700 non-null  bool   \n",
      " 25  Junction                 438700 non-null  bool   \n",
      " 26  No_Exit                  438700 non-null  bool   \n",
      " 27  Railway                  438700 non-null  bool   \n",
      " 28  Roundabout               438700 non-null  bool   \n",
      " 29  Station                  438700 non-null  bool   \n",
      " 30  Stop                     438700 non-null  bool   \n",
      " 31  Traffic_Calming          438700 non-null  bool   \n",
      " 32  Traffic_Signal           438700 non-null  bool   \n",
      " 33  Sunrise_Sunset           438700 non-null  object \n",
      " 34  Civil_Twilight           438700 non-null  object \n",
      " 35  Nautical_Twilight        438700 non-null  object \n",
      " 36  Astronomical_Twilight    438700 non-null  object \n",
      " 37  Start_Time_Month         438700 non-null  int64  \n",
      " 38  Start_Time_Year          438700 non-null  int64  \n",
      " 39  Start_Time_Hour          438700 non-null  int64  \n",
      " 40  End_Time_Month           438700 non-null  int64  \n",
      " 41  End_Time_Year            438700 non-null  int64  \n",
      " 42  End_Time_Hour            438700 non-null  int64  \n",
      " 43  Weather_Timestamp_Month  438700 non-null  int64  \n",
      " 44  Weather_Timestamp_Year   438700 non-null  int64  \n",
      " 45  Weather_Time_Hour        438700 non-null  int64  \n",
      "dtypes: bool(12), float64(10), int64(11), object(13)\n",
      "memory usage: 118.8+ MB\n"
     ]
    }
   ],
   "source": [
    "data = pd.read_csv('cosc2789-2021/cleaned_train.csv')\n",
    "validation = pd.read_csv('cosc2789-2021/cleaned_validation.csv')\n",
    "test = pd.read_csv('cosc2789-2021/cleaned_test.csv')\n",
    "data.info()"
   ]
  },
  {
   "cell_type": "code",
   "execution_count": 3,
   "metadata": {
    "papermill": {
     "duration": 0.346076,
     "end_time": "2020-11-05T19:50:01.077672",
     "exception": false,
     "start_time": "2020-11-05T19:50:00.731596",
     "status": "completed"
    },
    "tags": []
   },
   "outputs": [
    {
     "data": {
      "text/plain": "   Severity  Start_Lat  Start_Lng   End_Lat   End_Lng  Distance(mi) Side  \\\n0         2   39.10148  -84.52341  39.09841 -84.52241         0.219    r   \n1         2   41.06213  -81.53784  41.06217 -81.53547         0.123    r   \n2         2   39.06324  -84.03243  39.06731 -84.05851         1.427    r   \n\n           City    County State  ... Astronomical_Twilight Start_Time_Month  \\\n0    cincinnati  hamilton    oh  ...                   day                2   \n1         akron    summit    oh  ...                   day                2   \n2  williamsburg  clermont    oh  ...                   day                2   \n\n  Start_Time_Year  Start_Time_Hour  End_Time_Month  End_Time_Year  \\\n0            2016                6               2           2016   \n1            2016                6               2           2016   \n2            2016                8               2           2016   \n\n   End_Time_Hour Weather_Timestamp_Month  Weather_Timestamp_Year  \\\n0             12                       2                    2016   \n1             12                       2                    2016   \n2             14                       2                    2016   \n\n   Weather_Time_Hour  \n0                  5  \n1                  6  \n2                  8  \n\n[3 rows x 46 columns]",
      "text/html": "<div>\n<style scoped>\n    .dataframe tbody tr th:only-of-type {\n        vertical-align: middle;\n    }\n\n    .dataframe tbody tr th {\n        vertical-align: top;\n    }\n\n    .dataframe thead th {\n        text-align: right;\n    }\n</style>\n<table border=\"1\" class=\"dataframe\">\n  <thead>\n    <tr style=\"text-align: right;\">\n      <th></th>\n      <th>Severity</th>\n      <th>Start_Lat</th>\n      <th>Start_Lng</th>\n      <th>End_Lat</th>\n      <th>End_Lng</th>\n      <th>Distance(mi)</th>\n      <th>Side</th>\n      <th>City</th>\n      <th>County</th>\n      <th>State</th>\n      <th>...</th>\n      <th>Astronomical_Twilight</th>\n      <th>Start_Time_Month</th>\n      <th>Start_Time_Year</th>\n      <th>Start_Time_Hour</th>\n      <th>End_Time_Month</th>\n      <th>End_Time_Year</th>\n      <th>End_Time_Hour</th>\n      <th>Weather_Timestamp_Month</th>\n      <th>Weather_Timestamp_Year</th>\n      <th>Weather_Time_Hour</th>\n    </tr>\n  </thead>\n  <tbody>\n    <tr>\n      <th>0</th>\n      <td>2</td>\n      <td>39.10148</td>\n      <td>-84.52341</td>\n      <td>39.09841</td>\n      <td>-84.52241</td>\n      <td>0.219</td>\n      <td>r</td>\n      <td>cincinnati</td>\n      <td>hamilton</td>\n      <td>oh</td>\n      <td>...</td>\n      <td>day</td>\n      <td>2</td>\n      <td>2016</td>\n      <td>6</td>\n      <td>2</td>\n      <td>2016</td>\n      <td>12</td>\n      <td>2</td>\n      <td>2016</td>\n      <td>5</td>\n    </tr>\n    <tr>\n      <th>1</th>\n      <td>2</td>\n      <td>41.06213</td>\n      <td>-81.53784</td>\n      <td>41.06217</td>\n      <td>-81.53547</td>\n      <td>0.123</td>\n      <td>r</td>\n      <td>akron</td>\n      <td>summit</td>\n      <td>oh</td>\n      <td>...</td>\n      <td>day</td>\n      <td>2</td>\n      <td>2016</td>\n      <td>6</td>\n      <td>2</td>\n      <td>2016</td>\n      <td>12</td>\n      <td>2</td>\n      <td>2016</td>\n      <td>6</td>\n    </tr>\n    <tr>\n      <th>2</th>\n      <td>2</td>\n      <td>39.06324</td>\n      <td>-84.03243</td>\n      <td>39.06731</td>\n      <td>-84.05851</td>\n      <td>1.427</td>\n      <td>r</td>\n      <td>williamsburg</td>\n      <td>clermont</td>\n      <td>oh</td>\n      <td>...</td>\n      <td>day</td>\n      <td>2</td>\n      <td>2016</td>\n      <td>8</td>\n      <td>2</td>\n      <td>2016</td>\n      <td>14</td>\n      <td>2</td>\n      <td>2016</td>\n      <td>8</td>\n    </tr>\n  </tbody>\n</table>\n<p>3 rows × 46 columns</p>\n</div>"
     },
     "execution_count": 3,
     "metadata": {},
     "output_type": "execute_result"
    }
   ],
   "source": [
    "data.head(3)"
   ]
  },
  {
   "cell_type": "markdown",
   "metadata": {
    "papermill": {
     "duration": 0.030733,
     "end_time": "2020-11-05T19:50:02.163472",
     "exception": false,
     "start_time": "2020-11-05T19:50:02.132739",
     "status": "completed"
    },
    "tags": []
   },
   "source": [
    "# Missing Values"
   ]
  },
  {
   "cell_type": "code",
   "execution_count": 4,
   "metadata": {
    "papermill": {
     "duration": 0.790393,
     "end_time": "2020-11-05T19:50:06.516740",
     "exception": false,
     "start_time": "2020-11-05T19:50:05.726347",
     "status": "completed"
    },
    "tags": []
   },
   "outputs": [
    {
     "name": "stdout",
     "output_type": "stream",
     "text": [
      "Total missing values: 0\n",
      "Total missing values: 0\n",
      "Total missing values: 0\n"
     ]
    }
   ],
   "source": [
    "print(\"Total missing values:\", data.isna().sum().sum())\n",
    "print(\"Total missing values:\", test.isna().sum().sum())\n",
    "print(\"Total missing values:\", validation.isna().sum().sum())"
   ]
  },
  {
   "cell_type": "markdown",
   "metadata": {
    "papermill": {
     "duration": 0.034674,
     "end_time": "2020-11-05T19:50:06.928812",
     "exception": false,
     "start_time": "2020-11-05T19:50:06.894138",
     "status": "completed"
    },
    "tags": []
   },
   "source": [
    "# Unnecessary Columns"
   ]
  },
  {
   "cell_type": "code",
   "execution_count": 5,
   "metadata": {},
   "outputs": [
    {
     "name": "stdout",
     "output_type": "stream",
     "text": [
      "List of non numeric in train dataset is ['Side', 'City', 'County', 'State', 'Zipcode', 'Timezone', 'Airport_Code', 'Wind_Direction', 'Weather_Condition', 'Amenity', 'Bump', 'Crossing', 'Give_Way', 'Junction', 'No_Exit', 'Railway', 'Roundabout', 'Station', 'Stop', 'Traffic_Calming', 'Traffic_Signal', 'Sunrise_Sunset', 'Civil_Twilight', 'Nautical_Twilight', 'Astronomical_Twilight']\n",
      "\n",
      "\n",
      "List of numeric in test dataset is ['Severity', 'Start_Lat', 'Start_Lng', 'End_Lat', 'End_Lng', 'Distance(mi)', 'Temperature(F)', 'Humidity(%)', 'Pressure(in)', 'Visibility(mi)', 'Wind_Speed(mph)', 'Precipitation(in)', 'Start_Time_Month', 'Start_Time_Year', 'Start_Time_Hour', 'End_Time_Month', 'End_Time_Year', 'End_Time_Hour', 'Weather_Timestamp_Month', 'Weather_Timestamp_Year', 'Weather_Time_Hour']\n",
      "\n",
      "\n"
     ]
    }
   ],
   "source": [
    "# select non-numeric columns\n",
    "categorical = data.select_dtypes(exclude=[np.number])\n",
    "categorical = categorical.columns.tolist()\n",
    "print(f'List of non numeric in train dataset is {categorical}\\n\\n')\n",
    "\n",
    "\n",
    "# select non-numeric columns\n",
    "numeric = data.select_dtypes(include=[np.number])\n",
    "numeric = numeric.columns.tolist()\n",
    "print(f'List of numeric in test dataset is {numeric}\\n\\n')"
   ]
  },
  {
   "cell_type": "code",
   "execution_count": 6,
   "metadata": {
    "papermill": {
     "duration": 0.109472,
     "end_time": "2020-11-05T19:50:08.044695",
     "exception": false,
     "start_time": "2020-11-05T19:50:07.935223",
     "status": "completed"
    },
    "tags": []
   },
   "outputs": [],
   "source": [
    "# unneeded_columns = ['Side', 'City', 'County', 'State', 'Zipcode', 'Airport_Code', 'Wind_Direction', 'Weather_Condition', 'Amenity', 'Bump',  \n",
    "#                     'Give_Way', 'Junction', 'No_Exit', 'Railway', 'Roundabout', 'Station', 'Stop', 'Traffic_Calming', 'Sunrise_Sunset', \n",
    "#                     'Civil_Twilight', 'Nautical_Twilight', 'Astronomical_Twilight']\n",
    "\n",
    "unneeded_columns = ['Side', 'City', 'County', 'State', 'Zipcode', 'Airport_Code', 'Wind_Direction', 'Weather_Condition', 'Amenity', 'Bump',  \n",
    "                    'Give_Way', 'Junction', 'No_Exit', 'Railway', 'Roundabout', 'Station', 'Stop', 'Traffic_Calming', 'Sunrise_Sunset', \n",
    "                    'Civil_Twilight', 'Nautical_Twilight', 'Astronomical_Twilight', \n",
    "                    'Start_Lat', 'End_Lat', 'End_Lng', 'Temperature(F)', 'Visibility(mi)', 'Precipitation(in)', \n",
    "                    'Start_Time_Month', 'Start_Time_Year', 'Start_Time_Hour', 'End_Time_Month', 'End_Time_Year', 'End_Time_Hour', 'Weather_Timestamp_Month', 'Weather_Time_Hour']\n",
    "\n",
    "data = data.drop(unneeded_columns, axis=1)\n",
    "test = test.drop(unneeded_columns, axis=1)\n",
    "validation = validation.drop(unneeded_columns, axis=1)"
   ]
  },
  {
   "cell_type": "markdown",
   "metadata": {
    "papermill": {
     "duration": 0.040383,
     "end_time": "2020-11-05T19:50:10.287341",
     "exception": false,
     "start_time": "2020-11-05T19:50:10.246958",
     "status": "completed"
    },
    "tags": []
   },
   "source": [
    "# Encoding"
   ]
  },
  {
   "cell_type": "code",
   "execution_count": 7,
   "metadata": {
    "collapsed": false,
    "jupyter": {
     "outputs_hidden": false
    },
    "pycharm": {
     "name": "#%%\n"
    }
   },
   "outputs": [],
   "source": [
    "data = data.replace([True, False], [1,0])\n",
    "test = test.replace([True, False], [1,0])\n",
    "validation = validation.replace([True, False], [1,0])\n",
    "\n",
    "\n",
    "def onehot_encode(df, columns, prefixes):\n",
    "    df = df.copy()\n",
    "    for column, prefix in zip(columns, prefixes):\n",
    "        dummies = pd.get_dummies(df[column], prefix=prefix)\n",
    "        df = pd.concat([df, dummies], axis=1)\n",
    "        df = df.drop(column, axis=1)\n",
    "    return df\n",
    "\n",
    "\"\"\"\n",
    "List of non numeric in train dataset is ['Timezone', 'Crossing', 'Traffic_Signal']\n",
    "\n",
    "\n",
    "List of numeric in test dataset is ['Severity', 'Weather_Timestamp_Year', 'Start_Lng', 'Distance(mi)', 'Humidity(%)', 'Pressure_bc', 'Wind_Speed_bc']\n",
    "\"\"\"\n",
    "\n",
    "data = onehot_encode(\n",
    "    data,\n",
    "    columns=['Timezone', 'Crossing', 'Traffic_Signal'],\n",
    "    prefixes=['Timezone', 'Crossing', 'Traffic_Signal']\n",
    ")\n",
    "\n",
    "test = onehot_encode(\n",
    "    test,\n",
    "    columns=['Timezone', 'Crossing', 'Traffic_Signal'],\n",
    "    prefixes=['Timezone', 'Crossing', 'Traffic_Signal']\n",
    ")\n",
    "\n",
    "validation = onehot_encode(\n",
    "    validation,\n",
    "    columns=['Timezone', 'Crossing', 'Traffic_Signal'],\n",
    "    prefixes=['Timezone', 'Crossing', 'Traffic_Signal']\n",
    ")"
   ]
  },
  {
   "cell_type": "code",
   "execution_count": 8,
   "metadata": {
    "papermill": {
     "duration": 0.12063,
     "end_time": "2020-11-05T19:50:22.219598",
     "exception": false,
     "start_time": "2020-11-05T19:50:22.098968",
     "status": "completed"
    },
    "tags": []
   },
   "outputs": [
    {
     "data": {
      "text/plain": "   Severity  Start_Lng  Distance(mi)  Humidity(%)  Pressure(in)  \\\n0         2  -84.52341         0.219           97         29.70   \n1         2  -81.53784         0.123           55         29.65   \n2         2  -84.03243         1.427          100         29.66   \n\n   Wind_Speed(mph)  Weather_Timestamp_Year  Timezone_us/central  \\\n0              7.0                    2016                    0   \n1              7.0                    2016                    0   \n2              8.1                    2016                    0   \n\n   Timezone_us/eastern  Timezone_us/mountain  Timezone_us/pacific  Crossing_0  \\\n0                    1                     0                    0           1   \n1                    1                     0                    0           1   \n2                    1                     0                    0           1   \n\n   Crossing_1  Traffic_Signal_0  Traffic_Signal_1  \n0           0                 1                 0  \n1           0                 1                 0  \n2           0                 0                 1  ",
      "text/html": "<div>\n<style scoped>\n    .dataframe tbody tr th:only-of-type {\n        vertical-align: middle;\n    }\n\n    .dataframe tbody tr th {\n        vertical-align: top;\n    }\n\n    .dataframe thead th {\n        text-align: right;\n    }\n</style>\n<table border=\"1\" class=\"dataframe\">\n  <thead>\n    <tr style=\"text-align: right;\">\n      <th></th>\n      <th>Severity</th>\n      <th>Start_Lng</th>\n      <th>Distance(mi)</th>\n      <th>Humidity(%)</th>\n      <th>Pressure(in)</th>\n      <th>Wind_Speed(mph)</th>\n      <th>Weather_Timestamp_Year</th>\n      <th>Timezone_us/central</th>\n      <th>Timezone_us/eastern</th>\n      <th>Timezone_us/mountain</th>\n      <th>Timezone_us/pacific</th>\n      <th>Crossing_0</th>\n      <th>Crossing_1</th>\n      <th>Traffic_Signal_0</th>\n      <th>Traffic_Signal_1</th>\n    </tr>\n  </thead>\n  <tbody>\n    <tr>\n      <th>0</th>\n      <td>2</td>\n      <td>-84.52341</td>\n      <td>0.219</td>\n      <td>97</td>\n      <td>29.70</td>\n      <td>7.0</td>\n      <td>2016</td>\n      <td>0</td>\n      <td>1</td>\n      <td>0</td>\n      <td>0</td>\n      <td>1</td>\n      <td>0</td>\n      <td>1</td>\n      <td>0</td>\n    </tr>\n    <tr>\n      <th>1</th>\n      <td>2</td>\n      <td>-81.53784</td>\n      <td>0.123</td>\n      <td>55</td>\n      <td>29.65</td>\n      <td>7.0</td>\n      <td>2016</td>\n      <td>0</td>\n      <td>1</td>\n      <td>0</td>\n      <td>0</td>\n      <td>1</td>\n      <td>0</td>\n      <td>1</td>\n      <td>0</td>\n    </tr>\n    <tr>\n      <th>2</th>\n      <td>2</td>\n      <td>-84.03243</td>\n      <td>1.427</td>\n      <td>100</td>\n      <td>29.66</td>\n      <td>8.1</td>\n      <td>2016</td>\n      <td>0</td>\n      <td>1</td>\n      <td>0</td>\n      <td>0</td>\n      <td>1</td>\n      <td>0</td>\n      <td>0</td>\n      <td>1</td>\n    </tr>\n  </tbody>\n</table>\n</div>"
     },
     "execution_count": 8,
     "metadata": {},
     "output_type": "execute_result"
    }
   ],
   "source": [
    "data.head(3)"
   ]
  },
  {
   "cell_type": "markdown",
   "metadata": {
    "pycharm": {
     "name": "#%% md\n"
    }
   },
   "source": [
    "### WRITING DATA BACK TO FILES\n",
    "After completing your analysis and adding new columns, I write the results back to a file and get that data to visualize on Dash App. Otherwise, the data will be lost when the Jupyter Lab shuts down."
   ]
  },
  {
   "cell_type": "code",
   "execution_count": 9,
   "metadata": {
    "collapsed": false,
    "jupyter": {
     "outputs_hidden": false
    },
    "pycharm": {
     "name": "#%%\n"
    }
   },
   "outputs": [],
   "source": [
    "# # To write the data from the data frame into a file, use the to_csv function.\n",
    "# data.to_csv('cosc2789-2021/encoded_train.csv', index=False)\n",
    "# test.to_csv('cosc2789-2021/encoded_test.csv', index=False)\n",
    "# validation.to_csv('cosc2789-2021/encoded_validation.csv', index=False)"
   ]
  },
  {
   "cell_type": "code",
   "execution_count": 10,
   "metadata": {
    "collapsed": false,
    "jupyter": {
     "outputs_hidden": false
    },
    "pycharm": {
     "name": "#%%\n"
    }
   },
   "outputs": [
    {
     "name": "stdout",
     "output_type": "stream",
     "text": [
      "<class 'pandas.core.frame.DataFrame'>\n",
      "RangeIndex: 151607 entries, 0 to 151606\n",
      "Data columns (total 15 columns):\n",
      " #   Column                  Non-Null Count   Dtype  \n",
      "---  ------                  --------------   -----  \n",
      " 0   ID                      151607 non-null  object \n",
      " 1   Start_Lng               151607 non-null  float64\n",
      " 2   Distance(mi)            151607 non-null  float64\n",
      " 3   Humidity(%)             151607 non-null  int64  \n",
      " 4   Pressure(in)            151607 non-null  float64\n",
      " 5   Wind_Speed(mph)         151607 non-null  float64\n",
      " 6   Weather_Timestamp_Year  151607 non-null  int64  \n",
      " 7   Timezone_US/Central     151607 non-null  uint8  \n",
      " 8   Timezone_US/Eastern     151607 non-null  uint8  \n",
      " 9   Timezone_US/Mountain    151607 non-null  uint8  \n",
      " 10  Timezone_US/Pacific     151607 non-null  uint8  \n",
      " 11  Crossing_0              151607 non-null  uint8  \n",
      " 12  Crossing_1              151607 non-null  uint8  \n",
      " 13  Traffic_Signal_0        151607 non-null  uint8  \n",
      " 14  Traffic_Signal_1        151607 non-null  uint8  \n",
      "dtypes: float64(4), int64(2), object(1), uint8(8)\n",
      "memory usage: 9.3+ MB\n"
     ]
    }
   ],
   "source": [
    "test.info()"
   ]
  },
  {
   "cell_type": "markdown",
   "metadata": {
    "papermill": {
     "duration": 0.041176,
     "end_time": "2020-11-05T19:50:22.303040",
     "exception": false,
     "start_time": "2020-11-05T19:50:22.261864",
     "status": "completed"
    },
    "tags": []
   },
   "source": [
    "# Splitting/Scaling"
   ]
  },
  {
   "cell_type": "markdown",
   "metadata": {},
   "source": [
    "# 📈 Training a Linear Regression Model\n",
    "\n",
    "> Let's now begin to train out regression model! We will need to first split up our data into an X array that contains the features to train on, and a y array with the target variable, in this case the Price column. We will toss out the Address column because it only has text info that the linear regression model can't use.\n",
    "\n",
    "## X and y arrays"
   ]
  },
  {
   "cell_type": "markdown",
   "metadata": {},
   "source": [
    "## 🧱 Train Test Split\n",
    "\n",
    "Now let's split the data into a training set and a testing set. We will train out model on the training set and then use the test set to evaluate the model."
   ]
  },
  {
   "cell_type": "code",
   "execution_count": 11,
   "metadata": {},
   "outputs": [],
   "source": [
    "X = data.drop(['Severity'], axis = 1)\n",
    "y = data['Severity']\n",
    "\n",
    "X_train = X\n",
    "y_train = y\n",
    "\n",
    "accident_ID = test.ID.to_list()\n",
    "TEST = test.drop(['ID'], axis = 1)\n",
    "\n",
    "X_test = validation.drop(['Severity'], axis = 1)\n",
    "y_test = validation['Severity']"
   ]
  },
  {
   "cell_type": "markdown",
   "metadata": {
    "pycharm": {
     "name": "#%% md\n"
    }
   },
   "source": [
    "# 📦 Preparing Data For Multiple Linear Regression\n",
    "> Linear regression is been studied at great length, and there is a lot of literature on how your data must be structured to make best use of the model.\n",
    "\n",
    "> As such, there is a lot of sophistication when talking about these requirements and expectations which can be intimidating. In practice, you can uses these rules more as rules of thumb when using Ordinary Least Squares Regression, the most common implementation of linear regression.\n",
    "\n",
    "> Try different preparations of your data using these heuristics and see what works best for your problem.\n",
    "- **Linear Assumption.** Linear regression assumes that the relationship between your input and output is linear. It does not support anything else. This may be obvious, but it is good to remember when you have a lot of attributes. You may need to transform data to make the relationship linear (e.g. log transform for an exponential relationship).\n",
    "- **Remove Noise.** Linear regression assumes that your input and output variables are not noisy. Consider using data cleaning operations that let you better expose and clarify the signal in your data. This is most important for the output variable and you want to remove outliers in the output variable (y) if possible.\n",
    "- **Remove Collinearity.** Linear regression will over-fit your data when you have highly correlated input variables. Consider calculating pairwise correlations for your input data and removing the most correlated.\n",
    "- **Gaussian Distributions.** Linear regression will make more reliable predictions if your input and output variables have a Gaussian distribution. You may get some benefit using transforms (e.g. log or BoxCox) on you variables to make their distribution more Gaussian looking.\n",
    "- **Rescale Inputs:** Linear regression will often make more reliable predictions if you rescale input variables using standardization or normalization."
   ]
  },
  {
   "cell_type": "code",
   "execution_count": 12,
   "outputs": [],
   "source": [
    "# %%time\n",
    "#\n",
    "# from sklearn.preprocessing import StandardScaler\n",
    "# from sklearn.pipeline import Pipeline\n",
    "#\n",
    "# pipeline = Pipeline([\n",
    "#     ('std_scalar', StandardScaler())\n",
    "# ])\n",
    "#\n",
    "# X_train = pipeline.fit_transform(X_train)\n",
    "# X_test = pipeline.transform(X_test)\n",
    "# TEST = pipeline.fit_transform(TEST)"
   ],
   "metadata": {
    "collapsed": false,
    "pycharm": {
     "name": "#%%\n"
    }
   }
  },
  {
   "cell_type": "code",
   "execution_count": 30,
   "outputs": [],
   "source": [
    "from sklearn import metrics\n",
    "\n",
    "def print_evaluate(true, predicted):\n",
    "    mae = metrics.mean_absolute_error(true, predicted)\n",
    "    mse = metrics.mean_squared_error(true, predicted)\n",
    "    rmse = np.sqrt(metrics.mean_squared_error(true, predicted))\n",
    "    r2_square = metrics.r2_score(true, predicted)\n",
    "    print('MAE:', mae)\n",
    "    print('MSE:', mse)\n",
    "    print('RMSE:', rmse)\n",
    "    print('R2 Square', r2_square)\n",
    "    print('__________________________________')\n",
    "\n",
    "def evaluate(true, predicted):\n",
    "    mae = metrics.mean_absolute_error(true, predicted)\n",
    "    mse = metrics.mean_squared_error(true, predicted)\n",
    "    rmse = np.sqrt(metrics.mean_squared_error(true, predicted))\n",
    "    r2_square = metrics.r2_score(true, predicted)\n",
    "    return mae, mse, rmse, r2_square"
   ],
   "metadata": {
    "collapsed": false,
    "pycharm": {
     "name": "#%%\n"
    }
   }
  },
  {
   "cell_type": "code",
   "execution_count": 13,
   "outputs": [
    {
     "data": {
      "text/plain": "         Start_Lng  Distance(mi)  Humidity(%)  Pressure(in)  Wind_Speed(mph)  \\\n313401  -82.184810         0.704           72         30.00             15.0   \n50769   -74.211920         0.433           96         29.79             19.6   \n150501 -118.532910         0.537           60         29.14              3.0   \n427800  -81.550000         1.147           45         30.17             10.0   \n35223   -76.807324         0.717           83         29.99              4.6   \n\n        Weather_Timestamp_Year  Timezone_us/central  Timezone_us/eastern  \\\n313401                    2020                    0                    1   \n50769                     2017                    0                    1   \n150501                    2019                    0                    0   \n427800                    2020                    0                    1   \n35223                     2016                    0                    1   \n\n        Timezone_us/mountain  Timezone_us/pacific  Crossing_0  Crossing_1  \\\n313401                     0                    0           1           0   \n50769                      0                    0           1           0   \n150501                     0                    1           1           0   \n427800                     0                    0           1           0   \n35223                      0                    0           1           0   \n\n        Traffic_Signal_0  Traffic_Signal_1  \n313401                 1                 0  \n50769                  1                 0  \n150501                 1                 0  \n427800                 1                 0  \n35223                  1                 0  ",
      "text/html": "<div>\n<style scoped>\n    .dataframe tbody tr th:only-of-type {\n        vertical-align: middle;\n    }\n\n    .dataframe tbody tr th {\n        vertical-align: top;\n    }\n\n    .dataframe thead th {\n        text-align: right;\n    }\n</style>\n<table border=\"1\" class=\"dataframe\">\n  <thead>\n    <tr style=\"text-align: right;\">\n      <th></th>\n      <th>Start_Lng</th>\n      <th>Distance(mi)</th>\n      <th>Humidity(%)</th>\n      <th>Pressure(in)</th>\n      <th>Wind_Speed(mph)</th>\n      <th>Weather_Timestamp_Year</th>\n      <th>Timezone_us/central</th>\n      <th>Timezone_us/eastern</th>\n      <th>Timezone_us/mountain</th>\n      <th>Timezone_us/pacific</th>\n      <th>Crossing_0</th>\n      <th>Crossing_1</th>\n      <th>Traffic_Signal_0</th>\n      <th>Traffic_Signal_1</th>\n    </tr>\n  </thead>\n  <tbody>\n    <tr>\n      <th>313401</th>\n      <td>-82.184810</td>\n      <td>0.704</td>\n      <td>72</td>\n      <td>30.00</td>\n      <td>15.0</td>\n      <td>2020</td>\n      <td>0</td>\n      <td>1</td>\n      <td>0</td>\n      <td>0</td>\n      <td>1</td>\n      <td>0</td>\n      <td>1</td>\n      <td>0</td>\n    </tr>\n    <tr>\n      <th>50769</th>\n      <td>-74.211920</td>\n      <td>0.433</td>\n      <td>96</td>\n      <td>29.79</td>\n      <td>19.6</td>\n      <td>2017</td>\n      <td>0</td>\n      <td>1</td>\n      <td>0</td>\n      <td>0</td>\n      <td>1</td>\n      <td>0</td>\n      <td>1</td>\n      <td>0</td>\n    </tr>\n    <tr>\n      <th>150501</th>\n      <td>-118.532910</td>\n      <td>0.537</td>\n      <td>60</td>\n      <td>29.14</td>\n      <td>3.0</td>\n      <td>2019</td>\n      <td>0</td>\n      <td>0</td>\n      <td>0</td>\n      <td>1</td>\n      <td>1</td>\n      <td>0</td>\n      <td>1</td>\n      <td>0</td>\n    </tr>\n    <tr>\n      <th>427800</th>\n      <td>-81.550000</td>\n      <td>1.147</td>\n      <td>45</td>\n      <td>30.17</td>\n      <td>10.0</td>\n      <td>2020</td>\n      <td>0</td>\n      <td>1</td>\n      <td>0</td>\n      <td>0</td>\n      <td>1</td>\n      <td>0</td>\n      <td>1</td>\n      <td>0</td>\n    </tr>\n    <tr>\n      <th>35223</th>\n      <td>-76.807324</td>\n      <td>0.717</td>\n      <td>83</td>\n      <td>29.99</td>\n      <td>4.6</td>\n      <td>2016</td>\n      <td>0</td>\n      <td>1</td>\n      <td>0</td>\n      <td>0</td>\n      <td>1</td>\n      <td>0</td>\n      <td>1</td>\n      <td>0</td>\n    </tr>\n  </tbody>\n</table>\n</div>"
     },
     "execution_count": 13,
     "metadata": {},
     "output_type": "execute_result"
    }
   ],
   "source": [
    "X_train.sample(5)"
   ],
   "metadata": {
    "collapsed": false,
    "pycharm": {
     "name": "#%%\n"
    }
   }
  },
  {
   "cell_type": "code",
   "execution_count": 14,
   "outputs": [],
   "source": [
    "from sklearn.preprocessing import StandardScaler"
   ],
   "metadata": {
    "collapsed": false,
    "pycharm": {
     "name": "#%%\n"
    }
   }
  },
  {
   "cell_type": "code",
   "execution_count": 15,
   "outputs": [],
   "source": [
    "scaler = StandardScaler()\n",
    "\n",
    "scaler.fit(X_train)\n",
    "\n",
    "X_train = scaler.transform(X_train)\n",
    "X_test = scaler.transform(X_test)"
   ],
   "metadata": {
    "collapsed": false,
    "pycharm": {
     "name": "#%%\n"
    }
   }
  },
  {
   "cell_type": "code",
   "execution_count": 16,
   "outputs": [
    {
     "data": {
      "text/plain": "array([[ 0.76827295, -0.22526654,  1.40891255, ..., -0.24477601,\n         0.35342509, -0.35342509],\n       [ 0.92985185, -0.28414359, -0.42104135, ..., -0.24477601,\n         0.35342509, -0.35342509],\n       [ 0.79484477,  0.515603  ,  1.53962355, ..., -0.24477601,\n        -2.82945393,  2.82945393],\n       ...,\n       [ 1.06806695, -0.17252251,  1.53962355, ..., -0.24477601,\n         0.35342509, -0.35342509],\n       [-1.22058291, -0.34976696,  0.27608394, ..., -0.24477601,\n        -2.82945393,  2.82945393],\n       [-1.06426496, -0.21913351,  0.97320924, ..., -0.24477601,\n         0.35342509, -0.35342509]])"
     },
     "execution_count": 16,
     "metadata": {},
     "output_type": "execute_result"
    }
   ],
   "source": [
    "X_train"
   ],
   "metadata": {
    "collapsed": false,
    "pycharm": {
     "name": "#%%\n"
    }
   }
  },
  {
   "cell_type": "code",
   "execution_count": 17,
   "outputs": [],
   "source": [
    "from sklearn.neural_network import MLPRegressor"
   ],
   "metadata": {
    "collapsed": false,
    "pycharm": {
     "name": "#%%\n"
    }
   }
  },
  {
   "cell_type": "code",
   "execution_count": 18,
   "outputs": [],
   "source": [
    "mlp_reg = MLPRegressor(activation = 'relu',\n",
    "                       hidden_layer_sizes= (1, ),\n",
    "                       solver='lbfgs',\n",
    "                       verbose=True,\n",
    "                       max_iter=100)"
   ],
   "metadata": {
    "collapsed": false,
    "pycharm": {
     "name": "#%%\n"
    }
   }
  },
  {
   "cell_type": "code",
   "execution_count": 19,
   "outputs": [],
   "source": [
    "# mlp_reg = MLPRegressor(activation = 'relu',\n",
    "#                        hidden_layer_sizes= (5, ),\n",
    "#                        solver='lbfgs',\n",
    "#                        verbose=True,\n",
    "#                        max_iter=100)"
   ],
   "metadata": {
    "collapsed": false,
    "pycharm": {
     "name": "#%%\n"
    }
   }
  },
  {
   "cell_type": "code",
   "execution_count": 20,
   "outputs": [],
   "source": [
    "# mlp_reg = MLPRegressor(activation = 'relu',\n",
    "#                        hidden_layer_sizes= (2, 4),\n",
    "#                        solver='lbfgs',\n",
    "#                        verbose=True,\n",
    "#                        max_iter=100)"
   ],
   "metadata": {
    "collapsed": false,
    "pycharm": {
     "name": "#%%\n"
    }
   }
  },
  {
   "cell_type": "code",
   "execution_count": 21,
   "outputs": [],
   "source": [
    "# mlp_reg = MLPRegressor(activation = 'logistic',\n",
    "#                        hidden_layer_sizes= (2, 4),\n",
    "#                        solver='lbfgs',\n",
    "#                        verbose=True,\n",
    "#                        max_iter=100)"
   ],
   "metadata": {
    "collapsed": false,
    "pycharm": {
     "name": "#%%\n"
    }
   }
  },
  {
   "cell_type": "code",
   "execution_count": 22,
   "outputs": [],
   "source": [
    "# mlp_reg = MLPRegressor(activation = 'relu',\n",
    "#                        hidden_layer_sizes= (2, 6, 4),\n",
    "#                        solver='lbfgs',\n",
    "#                        verbose=True,\n",
    "#                        max_iter=1000)"
   ],
   "metadata": {
    "collapsed": false,
    "pycharm": {
     "name": "#%%\n"
    }
   }
  },
  {
   "cell_type": "code",
   "execution_count": 23,
   "outputs": [
    {
     "data": {
      "text/plain": "MLPRegressor(hidden_layer_sizes=(1,), max_iter=100, solver='lbfgs',\n             verbose=True)"
     },
     "execution_count": 23,
     "metadata": {},
     "output_type": "execute_result"
    }
   ],
   "source": [
    "mlp_reg.fit(X_train, y_train)"
   ],
   "metadata": {
    "collapsed": false,
    "pycharm": {
     "name": "#%%\n"
    }
   }
  },
  {
   "cell_type": "code",
   "execution_count": 24,
   "outputs": [],
   "source": [
    "y_pred = mlp_reg.predict(X_test)"
   ],
   "metadata": {
    "collapsed": false,
    "pycharm": {
     "name": "#%%\n"
    }
   }
  },
  {
   "cell_type": "code",
   "execution_count": 25,
   "outputs": [],
   "source": [
    "from sklearn.metrics import r2_score"
   ],
   "metadata": {
    "collapsed": false,
    "pycharm": {
     "name": "#%%\n"
    }
   }
  },
  {
   "cell_type": "code",
   "execution_count": 26,
   "outputs": [
    {
     "data": {
      "text/plain": "0.10698423993444861"
     },
     "execution_count": 26,
     "metadata": {},
     "output_type": "execute_result"
    }
   ],
   "source": [
    "mlp_reg.score(X_train, y_train)"
   ],
   "metadata": {
    "collapsed": false,
    "pycharm": {
     "name": "#%%\n"
    }
   }
  },
  {
   "cell_type": "code",
   "execution_count": 27,
   "outputs": [
    {
     "data": {
      "text/plain": "0.106397267465137"
     },
     "execution_count": 27,
     "metadata": {},
     "output_type": "execute_result"
    }
   ],
   "source": [
    "r2_score(y_test, y_pred)"
   ],
   "metadata": {
    "collapsed": false,
    "pycharm": {
     "name": "#%%\n"
    }
   }
  },
  {
   "cell_type": "code",
   "execution_count": 32,
   "outputs": [
    {
     "data": {
      "text/plain": "                       Model       MAE       MSE      RMSE  R2 Square  \\\n0  Artificial Neural Network  0.382679  0.332447  0.576582   0.106397   \n\n   Cross Validation  \n0                 0  ",
      "text/html": "<div>\n<style scoped>\n    .dataframe tbody tr th:only-of-type {\n        vertical-align: middle;\n    }\n\n    .dataframe tbody tr th {\n        vertical-align: top;\n    }\n\n    .dataframe thead th {\n        text-align: right;\n    }\n</style>\n<table border=\"1\" class=\"dataframe\">\n  <thead>\n    <tr style=\"text-align: right;\">\n      <th></th>\n      <th>Model</th>\n      <th>MAE</th>\n      <th>MSE</th>\n      <th>RMSE</th>\n      <th>R2 Square</th>\n      <th>Cross Validation</th>\n    </tr>\n  </thead>\n  <tbody>\n    <tr>\n      <th>0</th>\n      <td>Artificial Neural Network</td>\n      <td>0.382679</td>\n      <td>0.332447</td>\n      <td>0.576582</td>\n      <td>0.106397</td>\n      <td>0</td>\n    </tr>\n  </tbody>\n</table>\n</div>"
     },
     "execution_count": 32,
     "metadata": {},
     "output_type": "execute_result"
    }
   ],
   "source": [
    "results_df = pd.DataFrame(data=[[\"Artificial Neural Network\", *evaluate(y_test, y_pred)]],\n",
    "                            columns=['Model', 'MAE', 'MSE', 'RMSE', 'R2 Square'])\n",
    "results_df"
   ],
   "metadata": {
    "collapsed": false,
    "pycharm": {
     "name": "#%%\n"
    }
   }
  },
  {
   "cell_type": "code",
   "execution_count": 28,
   "outputs": [
    {
     "data": {
      "text/plain": "<Figure size 1440x720 with 1 Axes>",
      "image/png": "[encoded data removed]"
     },
     "metadata": {
      "needs_background": "light"
     },
     "output_type": "display_data"
    }
   ],
   "source": [
    "plt.figure(figsize = (20,10))\n",
    "\n",
    "plt.plot(y_pred, label='Predicted')\n",
    "plt.plot(y_test.values, label='Actual')\n",
    "\n",
    "plt.ylabel('change in weight')\n",
    "\n",
    "plt.legend()\n",
    "plt.show()"
   ],
   "metadata": {
    "collapsed": false,
    "pycharm": {
     "name": "#%%\n"
    }
   }
  },
  {
   "cell_type": "code",
   "execution_count": 29,
   "outputs": [
    {
     "name": "stderr",
     "output_type": "stream",
     "text": [
      "C:\\Users\\Thu\\anaconda3\\envs\\as2\\lib\\site-packages\\sklearn\\base.py:438: UserWarning: X has feature names, but MLPRegressor was fitted without feature names\n",
      "  warnings.warn(\n"
     ]
    },
    {
     "name": "stdout",
     "output_type": "stream",
     "text": [
      "Submission was successfully saved!\n",
      "Wall time: 581 ms\n"
     ]
    }
   ],
   "source": [
    "%%time\n",
    "\n",
    "y_predict_mlp_reg = mlp_reg.predict(TEST)\n",
    "\n",
    "output = pd.DataFrame({\"ID\": accident_ID, \"Severity\": y_predict_mlp_reg})\n",
    "\n",
    "output.to_csv('submission_mlp_reg.csv', index=False)\n",
    "print(\"Submission was successfully saved!\")"
   ],
   "metadata": {
    "collapsed": false,
    "pycharm": {
     "name": "#%%\n"
    }
   }
  }
 ],
 "metadata": {
  "kernelspec": {
   "display_name": "Python 3",
   "language": "python",
   "name": "python3"
  },
  "language_info": {
   "codemirror_mode": {
    "name": "ipython",
    "version": 3
   },
   "file_extension": ".py",
   "mimetype": "text/x-python",
   "name": "python",
   "nbconvert_exporter": "python",
   "pygments_lexer": "ipython3",
   "version": "3.8.8"
  },
  "papermill": {
   "duration": 152.583528,
   "end_time": "2020-11-05T19:52:15.271755",
   "environment_variables": {},
   "exception": null,
   "input_path": "__notebook__.ipynb",
   "output_path": "__notebook__.ipynb",
   "parameters": {},
   "start_time": "2020-11-05T19:49:42.688227",
   "version": "2.1.0"
  }
 },
 "nbformat": 4,
 "nbformat_minor": 4
}