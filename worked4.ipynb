{
 "cells": [
  {
   "cell_type": "markdown",
   "metadata": {
    "papermill": {
     "duration": 0.032283,
     "end_time": "2020-11-05T19:49:48.292566",
     "exception": false,
     "start_time": "2020-11-05T19:49:48.260283",
     "status": "completed"
    },
    "tags": []
   },
   "source": [
    "# Getting Started"
   ]
  },
  {
   "cell_type": "code",
   "execution_count": 1,
   "metadata": {
    "_cell_guid": "79c7e3d0-c299-4dcb-8224-4455121ee9b0",
    "_uuid": "d629ff2d2480ee46fbb7e2d37f6b5fab8052498a",
    "papermill": {
     "duration": 7.153388,
     "end_time": "2020-11-05T19:49:55.475785",
     "exception": false,
     "start_time": "2020-11-05T19:49:48.322397",
     "status": "completed"
    },
    "tags": []
   },
   "outputs": [],
   "source": [
    "import numpy as np\n",
    "import pandas as pd\n",
    "from matplotlib import pyplot as plt\n",
    "import statsmodels.api as sm\n",
    "\n",
    "from sklearn.preprocessing import StandardScaler"
   ]
  },
  {
   "cell_type": "code",
   "execution_count": 2,
   "metadata": {
    "papermill": {
     "duration": 5.196097,
     "end_time": "2020-11-05T19:50:00.701863",
     "exception": false,
     "start_time": "2020-11-05T19:49:55.505766",
     "status": "completed"
    },
    "tags": []
   },
   "outputs": [
    {
     "name": "stdout",
     "output_type": "stream",
     "text": [
      "<class 'pandas.core.frame.DataFrame'>\n",
      "RangeIndex: 438700 entries, 0 to 438699\n",
      "Data columns (total 46 columns):\n",
      " #   Column                   Non-Null Count   Dtype  \n",
      "---  ------                   --------------   -----  \n",
      " 0   Severity                 438700 non-null  int64  \n",
      " 1   Start_Lat                438700 non-null  float64\n",
      " 2   Start_Lng                438700 non-null  float64\n",
      " 3   End_Lat                  438700 non-null  float64\n",
      " 4   End_Lng                  438700 non-null  float64\n",
      " 5   Distance(mi)             438700 non-null  float64\n",
      " 6   Side                     438700 non-null  object \n",
      " 7   City                     438700 non-null  object \n",
      " 8   County                   438700 non-null  object \n",
      " 9   State                    438700 non-null  object \n",
      " 10  Zipcode                  438700 non-null  object \n",
      " 11  Timezone                 438700 non-null  object \n",
      " 12  Airport_Code             438700 non-null  object \n",
      " 13  Temperature(F)           438700 non-null  float64\n",
      " 14  Humidity(%)              438700 non-null  int64  \n",
      " 15  Pressure(in)             438700 non-null  float64\n",
      " 16  Visibility(mi)           438700 non-null  float64\n",
      " 17  Wind_Direction           438700 non-null  object \n",
      " 18  Wind_Speed(mph)          438700 non-null  float64\n",
      " 19  Precipitation(in)        438700 non-null  float64\n",
      " 20  Weather_Condition        438700 non-null  object \n",
      " 21  Amenity                  438700 non-null  bool   \n",
      " 22  Bump                     438700 non-null  bool   \n",
      " 23  Crossing                 438700 non-null  bool   \n",
      " 24  Give_Way                 438700 non-null  bool   \n",
      " 25  Junction                 438700 non-null  bool   \n",
      " 26  No_Exit                  438700 non-null  bool   \n",
      " 27  Railway                  438700 non-null  bool   \n",
      " 28  Roundabout               438700 non-null  bool   \n",
      " 29  Station                  438700 non-null  bool   \n",
      " 30  Stop                     438700 non-null  bool   \n",
      " 31  Traffic_Calming          438700 non-null  bool   \n",
      " 32  Traffic_Signal           438700 non-null  bool   \n",
      " 33  Sunrise_Sunset           438700 non-null  object \n",
      " 34  Civil_Twilight           438700 non-null  object \n",
      " 35  Nautical_Twilight        438700 non-null  object \n",
      " 36  Astronomical_Twilight    438700 non-null  object \n",
      " 37  Start_Time_Month         438700 non-null  int64  \n",
      " 38  Start_Time_Year          438700 non-null  int64  \n",
      " 39  Start_Time_Hour          438700 non-null  int64  \n",
      " 40  End_Time_Month           438700 non-null  int64  \n",
      " 41  End_Time_Year            438700 non-null  int64  \n",
      " 42  End_Time_Hour            438700 non-null  int64  \n",
      " 43  Weather_Timestamp_Month  438700 non-null  int64  \n",
      " 44  Weather_Timestamp_Year   438700 non-null  int64  \n",
      " 45  Weather_Time_Hour        438700 non-null  int64  \n",
      "dtypes: bool(12), float64(10), int64(11), object(13)\n",
      "memory usage: 118.8+ MB\n"
     ]
    }
   ],
   "source": [
    "data = pd.read_csv('cosc2789-2021/cleaned_train.csv')\n",
    "validation = pd.read_csv('cosc2789-2021/cleaned_validation.csv')\n",
    "test = pd.read_csv('cosc2789-2021/cleaned_test.csv')\n",
    "data.info()"
   ]
  },
  {
   "cell_type": "code",
   "execution_count": 3,
   "metadata": {
    "papermill": {
     "duration": 0.346076,
     "end_time": "2020-11-05T19:50:01.077672",
     "exception": false,
     "start_time": "2020-11-05T19:50:00.731596",
     "status": "completed"
    },
    "tags": []
   },
   "outputs": [
    {
     "data": {
      "text/html": [
       "<div>\n",
       "<style scoped>\n",
       "    .dataframe tbody tr th:only-of-type {\n",
       "        vertical-align: middle;\n",
       "    }\n",
       "\n",
       "    .dataframe tbody tr th {\n",
       "        vertical-align: top;\n",
       "    }\n",
       "\n",
       "    .dataframe thead th {\n",
       "        text-align: right;\n",
       "    }\n",
       "</style>\n",
       "<table border=\"1\" class=\"dataframe\">\n",
       "  <thead>\n",
       "    <tr style=\"text-align: right;\">\n",
       "      <th></th>\n",
       "      <th>Severity</th>\n",
       "      <th>Start_Lat</th>\n",
       "      <th>Start_Lng</th>\n",
       "      <th>End_Lat</th>\n",
       "      <th>End_Lng</th>\n",
       "      <th>Distance(mi)</th>\n",
       "      <th>Side</th>\n",
       "      <th>City</th>\n",
       "      <th>County</th>\n",
       "      <th>State</th>\n",
       "      <th>...</th>\n",
       "      <th>Astronomical_Twilight</th>\n",
       "      <th>Start_Time_Month</th>\n",
       "      <th>Start_Time_Year</th>\n",
       "      <th>Start_Time_Hour</th>\n",
       "      <th>End_Time_Month</th>\n",
       "      <th>End_Time_Year</th>\n",
       "      <th>End_Time_Hour</th>\n",
       "      <th>Weather_Timestamp_Month</th>\n",
       "      <th>Weather_Timestamp_Year</th>\n",
       "      <th>Weather_Time_Hour</th>\n",
       "    </tr>\n",
       "  </thead>\n",
       "  <tbody>\n",
       "    <tr>\n",
       "      <th>0</th>\n",
       "      <td>2</td>\n",
       "      <td>39.10148</td>\n",
       "      <td>-84.52341</td>\n",
       "      <td>39.09841</td>\n",
       "      <td>-84.52241</td>\n",
       "      <td>0.219</td>\n",
       "      <td>r</td>\n",
       "      <td>cincinnati</td>\n",
       "      <td>hamilton</td>\n",
       "      <td>oh</td>\n",
       "      <td>...</td>\n",
       "      <td>day</td>\n",
       "      <td>2</td>\n",
       "      <td>2016</td>\n",
       "      <td>6</td>\n",
       "      <td>2</td>\n",
       "      <td>2016</td>\n",
       "      <td>12</td>\n",
       "      <td>2</td>\n",
       "      <td>2016</td>\n",
       "      <td>5</td>\n",
       "    </tr>\n",
       "    <tr>\n",
       "      <th>1</th>\n",
       "      <td>2</td>\n",
       "      <td>41.06213</td>\n",
       "      <td>-81.53784</td>\n",
       "      <td>41.06217</td>\n",
       "      <td>-81.53547</td>\n",
       "      <td>0.123</td>\n",
       "      <td>r</td>\n",
       "      <td>akron</td>\n",
       "      <td>summit</td>\n",
       "      <td>oh</td>\n",
       "      <td>...</td>\n",
       "      <td>day</td>\n",
       "      <td>2</td>\n",
       "      <td>2016</td>\n",
       "      <td>6</td>\n",
       "      <td>2</td>\n",
       "      <td>2016</td>\n",
       "      <td>12</td>\n",
       "      <td>2</td>\n",
       "      <td>2016</td>\n",
       "      <td>6</td>\n",
       "    </tr>\n",
       "    <tr>\n",
       "      <th>2</th>\n",
       "      <td>2</td>\n",
       "      <td>39.06324</td>\n",
       "      <td>-84.03243</td>\n",
       "      <td>39.06731</td>\n",
       "      <td>-84.05851</td>\n",
       "      <td>1.427</td>\n",
       "      <td>r</td>\n",
       "      <td>williamsburg</td>\n",
       "      <td>clermont</td>\n",
       "      <td>oh</td>\n",
       "      <td>...</td>\n",
       "      <td>day</td>\n",
       "      <td>2</td>\n",
       "      <td>2016</td>\n",
       "      <td>8</td>\n",
       "      <td>2</td>\n",
       "      <td>2016</td>\n",
       "      <td>14</td>\n",
       "      <td>2</td>\n",
       "      <td>2016</td>\n",
       "      <td>8</td>\n",
       "    </tr>\n",
       "  </tbody>\n",
       "</table>\n",
       "<p>3 rows × 46 columns</p>\n",
       "</div>"
      ],
      "text/plain": [
       "   Severity  Start_Lat  Start_Lng   End_Lat   End_Lng  Distance(mi) Side  \\\n",
       "0         2   39.10148  -84.52341  39.09841 -84.52241         0.219    r   \n",
       "1         2   41.06213  -81.53784  41.06217 -81.53547         0.123    r   \n",
       "2         2   39.06324  -84.03243  39.06731 -84.05851         1.427    r   \n",
       "\n",
       "           City    County State  ... Astronomical_Twilight Start_Time_Month  \\\n",
       "0    cincinnati  hamilton    oh  ...                   day                2   \n",
       "1         akron    summit    oh  ...                   day                2   \n",
       "2  williamsburg  clermont    oh  ...                   day                2   \n",
       "\n",
       "  Start_Time_Year  Start_Time_Hour  End_Time_Month  End_Time_Year  \\\n",
       "0            2016                6               2           2016   \n",
       "1            2016                6               2           2016   \n",
       "2            2016                8               2           2016   \n",
       "\n",
       "   End_Time_Hour Weather_Timestamp_Month  Weather_Timestamp_Year  \\\n",
       "0             12                       2                    2016   \n",
       "1             12                       2                    2016   \n",
       "2             14                       2                    2016   \n",
       "\n",
       "   Weather_Time_Hour  \n",
       "0                  5  \n",
       "1                  6  \n",
       "2                  8  \n",
       "\n",
       "[3 rows x 46 columns]"
      ]
     },
     "execution_count": 3,
     "metadata": {},
     "output_type": "execute_result"
    }
   ],
   "source": [
    "data.head(3)"
   ]
  },
  {
   "cell_type": "markdown",
   "metadata": {
    "papermill": {
     "duration": 0.030733,
     "end_time": "2020-11-05T19:50:02.163472",
     "exception": false,
     "start_time": "2020-11-05T19:50:02.132739",
     "status": "completed"
    },
    "tags": []
   },
   "source": [
    "# Missing Values"
   ]
  },
  {
   "cell_type": "code",
   "execution_count": 4,
   "metadata": {
    "papermill": {
     "duration": 0.790393,
     "end_time": "2020-11-05T19:50:06.516740",
     "exception": false,
     "start_time": "2020-11-05T19:50:05.726347",
     "status": "completed"
    },
    "tags": []
   },
   "outputs": [
    {
     "name": "stdout",
     "output_type": "stream",
     "text": [
      "Total missing values: 0\n",
      "Total missing values: 0\n",
      "Total missing values: 0\n"
     ]
    }
   ],
   "source": [
    "print(\"Total missing values:\", data.isna().sum().sum())\n",
    "print(\"Total missing values:\", test.isna().sum().sum())\n",
    "print(\"Total missing values:\", validation.isna().sum().sum())"
   ]
  },
  {
   "cell_type": "markdown",
   "metadata": {
    "papermill": {
     "duration": 0.034674,
     "end_time": "2020-11-05T19:50:06.928812",
     "exception": false,
     "start_time": "2020-11-05T19:50:06.894138",
     "status": "completed"
    },
    "tags": []
   },
   "source": [
    "# Unnecessary Columns"
   ]
  },
  {
   "cell_type": "code",
   "execution_count": 5,
   "metadata": {
    "papermill": {
     "duration": 0.935369,
     "end_time": "2020-11-05T19:50:07.899332",
     "exception": false,
     "start_time": "2020-11-05T19:50:06.963963",
     "status": "completed"
    },
    "tags": []
   },
   "outputs": [
    {
     "data": {
      "text/plain": [
       "{'Side': 2,\n",
       " 'City': 8852,\n",
       " 'County': 1522,\n",
       " 'State': 49,\n",
       " 'Zipcode': 83187,\n",
       " 'Timezone': 4,\n",
       " 'Airport_Code': 1884,\n",
       " 'Wind_Direction': 10,\n",
       " 'Weather_Condition': 11,\n",
       " 'Sunrise_Sunset': 2,\n",
       " 'Civil_Twilight': 2,\n",
       " 'Nautical_Twilight': 2,\n",
       " 'Astronomical_Twilight': 2}"
      ]
     },
     "execution_count": 5,
     "metadata": {},
     "output_type": "execute_result"
    }
   ],
   "source": [
    "{column: len(data[column].unique()) for column in data.columns if data.dtypes[column] == 'object'}"
   ]
  },
  {
   "cell_type": "code",
   "execution_count": 6,
   "metadata": {},
   "outputs": [
    {
     "name": "stdout",
     "output_type": "stream",
     "text": [
      "List of non numeric in train dataset is ['Side', 'City', 'County', 'State', 'Zipcode', 'Timezone', 'Airport_Code', 'Wind_Direction', 'Weather_Condition', 'Amenity', 'Bump', 'Crossing', 'Give_Way', 'Junction', 'No_Exit', 'Railway', 'Roundabout', 'Station', 'Stop', 'Traffic_Calming', 'Traffic_Signal', 'Sunrise_Sunset', 'Civil_Twilight', 'Nautical_Twilight', 'Astronomical_Twilight']\n",
      "\n",
      "\n",
      "List of numeric in test dataset is ['Severity', 'Start_Lat', 'Start_Lng', 'End_Lat', 'End_Lng', 'Distance(mi)', 'Temperature(F)', 'Humidity(%)', 'Pressure(in)', 'Visibility(mi)', 'Wind_Speed(mph)', 'Precipitation(in)', 'Start_Time_Month', 'Start_Time_Year', 'Start_Time_Hour', 'End_Time_Month', 'End_Time_Year', 'End_Time_Hour', 'Weather_Timestamp_Month', 'Weather_Timestamp_Year', 'Weather_Time_Hour']\n",
      "\n",
      "\n"
     ]
    }
   ],
   "source": [
    "# select non-numeric columns\n",
    "categorical = data.select_dtypes(exclude=[np.number])\n",
    "categorical = categorical.columns.tolist()\n",
    "print(f'List of non numeric in train dataset is {categorical}\\n\\n')\n",
    "\n",
    "\n",
    "# select non-numeric columns\n",
    "numeric = data.select_dtypes(include=[np.number])\n",
    "numeric = numeric.columns.tolist()\n",
    "print(f'List of numeric in test dataset is {numeric}\\n\\n')"
   ]
  },
  {
   "cell_type": "code",
   "execution_count": 7,
   "metadata": {
    "papermill": {
     "duration": 0.109472,
     "end_time": "2020-11-05T19:50:08.044695",
     "exception": false,
     "start_time": "2020-11-05T19:50:07.935223",
     "status": "completed"
    },
    "tags": []
   },
   "outputs": [],
   "source": [
    "unneeded_columns = ['Side', 'City', 'County', 'State', 'Zipcode', 'Airport_Code', 'Wind_Direction', 'Weather_Condition', 'Amenity', 'Bump',  \n",
    "                    'Give_Way', 'Junction', 'No_Exit', 'Railway', 'Roundabout', 'Station', 'Stop', 'Traffic_Calming', 'Sunrise_Sunset', \n",
    "                    'Civil_Twilight', 'Nautical_Twilight', 'Astronomical_Twilight']\n",
    "\n",
    "data = data.drop(unneeded_columns, axis=1)\n",
    "test = test.drop(unneeded_columns, axis=1)\n",
    "validation = validation.drop(unneeded_columns, axis=1)"
   ]
  },
  {
   "cell_type": "markdown",
   "metadata": {
    "papermill": {
     "duration": 0.040383,
     "end_time": "2020-11-05T19:50:10.287341",
     "exception": false,
     "start_time": "2020-11-05T19:50:10.246958",
     "status": "completed"
    },
    "tags": []
   },
   "source": [
    "# Encoding"
   ]
  },
  {
   "cell_type": "code",
   "execution_count": 8,
   "metadata": {
    "collapsed": false,
    "jupyter": {
     "outputs_hidden": false
    },
    "pycharm": {
     "name": "#%%\n"
    }
   },
   "outputs": [],
   "source": [
    "data = data.replace([True, False], [1,0])\n",
    "test = test.replace([True, False], [1,0])\n",
    "validation = validation.replace([True, False], [1,0])\n",
    "\n",
    "\n",
    "def onehot_encode(df, columns, prefixes):\n",
    "    df = df.copy()\n",
    "    for column, prefix in zip(columns, prefixes):\n",
    "        dummies = pd.get_dummies(df[column], prefix=prefix)\n",
    "        df = pd.concat([df, dummies], axis=1)\n",
    "        df = df.drop(column, axis=1)\n",
    "    return df\n",
    "\n",
    "\"\"\"\n",
    "List of non numeric in train dataset is ['Timezone', 'Crossing', 'Traffic_Signal']\n",
    "\n",
    "\n",
    "List of numeric in test dataset is ['Severity', 'Weather_Timestamp_Year', 'Start_Lng', 'Distance(mi)', 'Humidity(%)', 'Pressure_bc', 'Wind_Speed_bc']\n",
    "\"\"\"\n",
    "\n",
    "data = onehot_encode(\n",
    "    data,\n",
    "    columns=['Timezone', 'Crossing', 'Traffic_Signal'],\n",
    "    prefixes=['Timezone', 'Crossing', 'Traffic_Signal']\n",
    ")\n",
    "\n",
    "test = onehot_encode(\n",
    "    test,\n",
    "    columns=['Timezone', 'Crossing', 'Traffic_Signal'],\n",
    "    prefixes=['Timezone', 'Crossing', 'Traffic_Signal']\n",
    ")\n",
    "\n",
    "validation = onehot_encode(\n",
    "    validation,\n",
    "    columns=['Timezone', 'Crossing', 'Traffic_Signal'],\n",
    "    prefixes=['Timezone', 'Crossing', 'Traffic_Signal']\n",
    ")"
   ]
  },
  {
   "cell_type": "code",
   "execution_count": 9,
   "metadata": {
    "papermill": {
     "duration": 0.12063,
     "end_time": "2020-11-05T19:50:22.219598",
     "exception": false,
     "start_time": "2020-11-05T19:50:22.098968",
     "status": "completed"
    },
    "tags": []
   },
   "outputs": [
    {
     "data": {
      "text/html": [
       "<div>\n",
       "<style scoped>\n",
       "    .dataframe tbody tr th:only-of-type {\n",
       "        vertical-align: middle;\n",
       "    }\n",
       "\n",
       "    .dataframe tbody tr th {\n",
       "        vertical-align: top;\n",
       "    }\n",
       "\n",
       "    .dataframe thead th {\n",
       "        text-align: right;\n",
       "    }\n",
       "</style>\n",
       "<table border=\"1\" class=\"dataframe\">\n",
       "  <thead>\n",
       "    <tr style=\"text-align: right;\">\n",
       "      <th></th>\n",
       "      <th>Severity</th>\n",
       "      <th>Start_Lat</th>\n",
       "      <th>Start_Lng</th>\n",
       "      <th>End_Lat</th>\n",
       "      <th>End_Lng</th>\n",
       "      <th>Distance(mi)</th>\n",
       "      <th>Temperature(F)</th>\n",
       "      <th>Humidity(%)</th>\n",
       "      <th>Pressure(in)</th>\n",
       "      <th>Visibility(mi)</th>\n",
       "      <th>...</th>\n",
       "      <th>Weather_Timestamp_Year</th>\n",
       "      <th>Weather_Time_Hour</th>\n",
       "      <th>Timezone_us/central</th>\n",
       "      <th>Timezone_us/eastern</th>\n",
       "      <th>Timezone_us/mountain</th>\n",
       "      <th>Timezone_us/pacific</th>\n",
       "      <th>Crossing_0</th>\n",
       "      <th>Crossing_1</th>\n",
       "      <th>Traffic_Signal_0</th>\n",
       "      <th>Traffic_Signal_1</th>\n",
       "    </tr>\n",
       "  </thead>\n",
       "  <tbody>\n",
       "    <tr>\n",
       "      <th>0</th>\n",
       "      <td>2</td>\n",
       "      <td>39.10148</td>\n",
       "      <td>-84.52341</td>\n",
       "      <td>39.09841</td>\n",
       "      <td>-84.52241</td>\n",
       "      <td>0.219</td>\n",
       "      <td>36.0</td>\n",
       "      <td>97</td>\n",
       "      <td>29.70</td>\n",
       "      <td>10.0</td>\n",
       "      <td>...</td>\n",
       "      <td>2016</td>\n",
       "      <td>5</td>\n",
       "      <td>0</td>\n",
       "      <td>1</td>\n",
       "      <td>0</td>\n",
       "      <td>0</td>\n",
       "      <td>1</td>\n",
       "      <td>0</td>\n",
       "      <td>1</td>\n",
       "      <td>0</td>\n",
       "    </tr>\n",
       "    <tr>\n",
       "      <th>1</th>\n",
       "      <td>2</td>\n",
       "      <td>41.06213</td>\n",
       "      <td>-81.53784</td>\n",
       "      <td>41.06217</td>\n",
       "      <td>-81.53547</td>\n",
       "      <td>0.123</td>\n",
       "      <td>39.0</td>\n",
       "      <td>55</td>\n",
       "      <td>29.65</td>\n",
       "      <td>10.0</td>\n",
       "      <td>...</td>\n",
       "      <td>2016</td>\n",
       "      <td>6</td>\n",
       "      <td>0</td>\n",
       "      <td>1</td>\n",
       "      <td>0</td>\n",
       "      <td>0</td>\n",
       "      <td>1</td>\n",
       "      <td>0</td>\n",
       "      <td>1</td>\n",
       "      <td>0</td>\n",
       "    </tr>\n",
       "    <tr>\n",
       "      <th>2</th>\n",
       "      <td>2</td>\n",
       "      <td>39.06324</td>\n",
       "      <td>-84.03243</td>\n",
       "      <td>39.06731</td>\n",
       "      <td>-84.05851</td>\n",
       "      <td>1.427</td>\n",
       "      <td>35.6</td>\n",
       "      <td>100</td>\n",
       "      <td>29.66</td>\n",
       "      <td>10.0</td>\n",
       "      <td>...</td>\n",
       "      <td>2016</td>\n",
       "      <td>8</td>\n",
       "      <td>0</td>\n",
       "      <td>1</td>\n",
       "      <td>0</td>\n",
       "      <td>0</td>\n",
       "      <td>1</td>\n",
       "      <td>0</td>\n",
       "      <td>0</td>\n",
       "      <td>1</td>\n",
       "    </tr>\n",
       "  </tbody>\n",
       "</table>\n",
       "<p>3 rows × 29 columns</p>\n",
       "</div>"
      ],
      "text/plain": [
       "   Severity  Start_Lat  Start_Lng   End_Lat   End_Lng  Distance(mi)  \\\n",
       "0         2   39.10148  -84.52341  39.09841 -84.52241         0.219   \n",
       "1         2   41.06213  -81.53784  41.06217 -81.53547         0.123   \n",
       "2         2   39.06324  -84.03243  39.06731 -84.05851         1.427   \n",
       "\n",
       "   Temperature(F)  Humidity(%)  Pressure(in)  Visibility(mi)  ...  \\\n",
       "0            36.0           97         29.70            10.0  ...   \n",
       "1            39.0           55         29.65            10.0  ...   \n",
       "2            35.6          100         29.66            10.0  ...   \n",
       "\n",
       "   Weather_Timestamp_Year  Weather_Time_Hour  Timezone_us/central  \\\n",
       "0                    2016                  5                    0   \n",
       "1                    2016                  6                    0   \n",
       "2                    2016                  8                    0   \n",
       "\n",
       "   Timezone_us/eastern  Timezone_us/mountain  Timezone_us/pacific  Crossing_0  \\\n",
       "0                    1                     0                    0           1   \n",
       "1                    1                     0                    0           1   \n",
       "2                    1                     0                    0           1   \n",
       "\n",
       "   Crossing_1  Traffic_Signal_0  Traffic_Signal_1  \n",
       "0           0                 1                 0  \n",
       "1           0                 1                 0  \n",
       "2           0                 0                 1  \n",
       "\n",
       "[3 rows x 29 columns]"
      ]
     },
     "execution_count": 9,
     "metadata": {},
     "output_type": "execute_result"
    }
   ],
   "source": [
    "data.head(3)"
   ]
  },
  {
   "cell_type": "markdown",
   "metadata": {
    "pycharm": {
     "name": "#%% md\n"
    }
   },
   "source": [
    "### WRITING DATA BACK TO FILES\n",
    "After completing your analysis and adding new columns, I write the results back to a file and get that data to visualize on Dash App. Otherwise, the data will be lost when the Jupyter Lab shuts down."
   ]
  },
  {
   "cell_type": "code",
   "execution_count": 10,
   "metadata": {
    "collapsed": false,
    "jupyter": {
     "outputs_hidden": false
    },
    "pycharm": {
     "name": "#%%\n"
    }
   },
   "outputs": [],
   "source": [
    "# # To write the data from the data frame into a file, use the to_csv function.\n",
    "# data.to_csv('cosc2789-2021/encoded_train.csv', index=False)\n",
    "# test.to_csv('cosc2789-2021/encoded_test.csv', index=False)\n",
    "# validation.to_csv('cosc2789-2021/encoded_validation.csv', index=False)"
   ]
  },
  {
   "cell_type": "code",
   "execution_count": 11,
   "metadata": {
    "collapsed": false,
    "jupyter": {
     "outputs_hidden": false
    },
    "pycharm": {
     "name": "#%%\n"
    }
   },
   "outputs": [
    {
     "name": "stdout",
     "output_type": "stream",
     "text": [
      "<class 'pandas.core.frame.DataFrame'>\n",
      "RangeIndex: 151607 entries, 0 to 151606\n",
      "Data columns (total 29 columns):\n",
      " #   Column                   Non-Null Count   Dtype  \n",
      "---  ------                   --------------   -----  \n",
      " 0   ID                       151607 non-null  object \n",
      " 1   Start_Lat                151607 non-null  float64\n",
      " 2   Start_Lng                151607 non-null  float64\n",
      " 3   End_Lat                  151607 non-null  float64\n",
      " 4   End_Lng                  151607 non-null  float64\n",
      " 5   Distance(mi)             151607 non-null  float64\n",
      " 6   Temperature(F)           151607 non-null  float64\n",
      " 7   Humidity(%)              151607 non-null  int64  \n",
      " 8   Pressure(in)             151607 non-null  float64\n",
      " 9   Visibility(mi)           151607 non-null  float64\n",
      " 10  Wind_Speed(mph)          151607 non-null  float64\n",
      " 11  Precipitation(in)        151607 non-null  float64\n",
      " 12  Start_Time_Month         151607 non-null  int64  \n",
      " 13  Start_Time_Year          151607 non-null  int64  \n",
      " 14  Start_Time_Hour          151607 non-null  int64  \n",
      " 15  End_Time_Month           151607 non-null  int64  \n",
      " 16  End_Time_Year            151607 non-null  int64  \n",
      " 17  End_Time_Hour            151607 non-null  int64  \n",
      " 18  Weather_Timestamp_Month  151607 non-null  int64  \n",
      " 19  Weather_Timestamp_Year   151607 non-null  int64  \n",
      " 20  Weather_Time_Hour        151607 non-null  int64  \n",
      " 21  Timezone_US/Central      151607 non-null  uint8  \n",
      " 22  Timezone_US/Eastern      151607 non-null  uint8  \n",
      " 23  Timezone_US/Mountain     151607 non-null  uint8  \n",
      " 24  Timezone_US/Pacific      151607 non-null  uint8  \n",
      " 25  Crossing_0               151607 non-null  uint8  \n",
      " 26  Crossing_1               151607 non-null  uint8  \n",
      " 27  Traffic_Signal_0         151607 non-null  uint8  \n",
      " 28  Traffic_Signal_1         151607 non-null  uint8  \n",
      "dtypes: float64(10), int64(10), object(1), uint8(8)\n",
      "memory usage: 25.4+ MB\n"
     ]
    }
   ],
   "source": [
    "test.info()"
   ]
  },
  {
   "cell_type": "markdown",
   "metadata": {
    "papermill": {
     "duration": 0.041176,
     "end_time": "2020-11-05T19:50:22.303040",
     "exception": false,
     "start_time": "2020-11-05T19:50:22.261864",
     "status": "completed"
    },
    "tags": []
   },
   "source": [
    "# Splitting/Scaling"
   ]
  },
  {
   "cell_type": "markdown",
   "metadata": {},
   "source": [
    "# 📈 Training a Linear Regression Model\n",
    "\n",
    "> Let's now begin to train out regression model! We will need to first split up our data into an X array that contains the features to train on, and a y array with the target variable, in this case the Price column. We will toss out the Address column because it only has text info that the linear regression model can't use.\n",
    "\n",
    "## X and y arrays"
   ]
  },
  {
   "cell_type": "markdown",
   "metadata": {},
   "source": [
    "## 🧱 Train Test Split\n",
    "\n",
    "Now let's split the data into a training set and a testing set. We will train out model on the training set and then use the test set to evaluate the model."
   ]
  },
  {
   "cell_type": "code",
   "execution_count": 12,
   "metadata": {},
   "outputs": [],
   "source": [
    "X = data.drop(['Severity'], axis = 1)\n",
    "y = data['Severity']\n",
    "\n",
    "X_train = X\n",
    "y_train = y\n",
    "\n",
    "accident_ID = test.ID.to_list()\n",
    "TEST = test.drop(['ID'], axis = 1)\n",
    "\n",
    "X_test = validation.drop(['Severity'], axis = 1)\n",
    "y_test = validation['Severity']"
   ]
  },
  {
   "cell_type": "markdown",
   "metadata": {},
   "source": [
    "# 📦 Preparing Data For Multiple Linear Regression\n",
    "> Linear regression is been studied at great length, and there is a lot of literature on how your data must be structured to make best use of the model.\n",
    "\n",
    "> As such, there is a lot of sophistication when talking about these requirements and expectations which can be intimidating. In practice, you can uses these rules more as rules of thumb when using Ordinary Least Squares Regression, the most common implementation of linear regression.\n",
    "\n",
    "> Try different preparations of your data using these heuristics and see what works best for your problem.\n",
    "- **Linear Assumption.** Linear regression assumes that the relationship between your input and output is linear. It does not support anything else. This may be obvious, but it is good to remember when you have a lot of attributes. You may need to transform data to make the relationship linear (e.g. log transform for an exponential relationship).\n",
    "- **Remove Noise.** Linear regression assumes that your input and output variables are not noisy. Consider using data cleaning operations that let you better expose and clarify the signal in your data. This is most important for the output variable and you want to remove outliers in the output variable (y) if possible.\n",
    "- **Remove Collinearity.** Linear regression will over-fit your data when you have highly correlated input variables. Consider calculating pairwise correlations for your input data and removing the most correlated.\n",
    "- **Gaussian Distributions.** Linear regression will make more reliable predictions if your input and output variables have a Gaussian distribution. You may get some benefit using transforms (e.g. log or BoxCox) on you variables to make their distribution more Gaussian looking.\n",
    "- **Rescale Inputs:** Linear regression will often make more reliable predictions if you rescale input variables using standardization or normalization."
   ]
  },
  {
   "cell_type": "code",
   "execution_count": 13,
   "metadata": {},
   "outputs": [
    {
     "name": "stdout",
     "output_type": "stream",
     "text": [
      "CPU times: user 270 ms, sys: 57.7 ms, total: 328 ms\n",
      "Wall time: 327 ms\n"
     ]
    }
   ],
   "source": [
    "%%time\n",
    "\n",
    "from sklearn.preprocessing import StandardScaler\n",
    "from sklearn.pipeline import Pipeline\n",
    "\n",
    "pipeline = Pipeline([\n",
    "    ('std_scalar', StandardScaler())\n",
    "])\n",
    "\n",
    "X_train = pipeline.fit_transform(X_train)\n",
    "X_test = pipeline.transform(X_test)\n",
    "TEST = pipeline.fit_transform(TEST)"
   ]
  },
  {
   "cell_type": "markdown",
   "metadata": {},
   "source": [
    "## ✔️ Regression Evaluation Metrics\n",
    "\n",
    "\n",
    "Here are three common evaluation metrics for regression problems:\n",
    "\n",
    "> - **Mean Absolute Error** (MAE) is the mean of the absolute value of the errors:\n",
    "$$\\frac 1n\\sum_{i=1}^n|y_i-\\hat{y}_i|$$\n",
    "\n",
    "> - **Mean Squared Error** (MSE) is the mean of the squared errors:\n",
    "$$\\frac 1n\\sum_{i=1}^n(y_i-\\hat{y}_i)^2$$\n",
    "\n",
    "> - **Root Mean Squared Error** (RMSE) is the square root of the mean of the squared errors:\n",
    "$$\\sqrt{\\frac 1n\\sum_{i=1}^n(y_i-\\hat{y}_i)^2}$$\n",
    "\n",
    "> - **Residuals** (R2):\n",
    "\n",
    "> 📌 Comparing these metrics:\n",
    "- **MAE** is the easiest to understand, because it's the average error.\n",
    "- **MSE** is more popular than MAE, because MSE \"punishes\" larger errors, which tends to be useful in the real world.\n",
    "- **RMSE** is even more popular than MSE, because RMSE is interpretable in the \"y\" units.\n",
    "- **R2** is independent of each other, independent of x, normally distributed, common variance, have 0 mean\n",
    "\n",
    "> All of these are **loss functions**, because we want to minimize them."
   ]
  },
  {
   "cell_type": "code",
   "execution_count": 14,
   "metadata": {},
   "outputs": [],
   "source": [
    "from sklearn import metrics\n",
    "from sklearn.model_selection import cross_val_score\n",
    "\n",
    "def cross_val(model):\n",
    "    pred = cross_val_score(model, X, y, cv=10)\n",
    "    return pred.mean()\n",
    "\n",
    "def print_evaluate(true, predicted):  \n",
    "    mae = metrics.mean_absolute_error(true, predicted)\n",
    "    mse = metrics.mean_squared_error(true, predicted)\n",
    "    rmse = np.sqrt(metrics.mean_squared_error(true, predicted))\n",
    "    r2_square = metrics.r2_score(true, predicted)\n",
    "    print('MAE:', mae)\n",
    "    print('MSE:', mse)\n",
    "    print('RMSE:', rmse)\n",
    "    print('R2 Square', r2_square)\n",
    "    print('__________________________________')\n",
    "    \n",
    "def evaluate(true, predicted):\n",
    "    mae = metrics.mean_absolute_error(true, predicted)\n",
    "    mse = metrics.mean_squared_error(true, predicted)\n",
    "    rmse = np.sqrt(metrics.mean_squared_error(true, predicted))\n",
    "    r2_square = metrics.r2_score(true, predicted)\n",
    "    return mae, mse, rmse, r2_square"
   ]
  },
  {
   "cell_type": "markdown",
   "metadata": {},
   "source": [
    "# ✔️ Linear Regression"
   ]
  },
  {
   "cell_type": "code",
   "execution_count": 15,
   "metadata": {},
   "outputs": [
    {
     "name": "stdout",
     "output_type": "stream",
     "text": [
      "CPU times: user 1.46 s, sys: 40.6 ms, total: 1.5 s\n",
      "Wall time: 265 ms\n"
     ]
    },
    {
     "data": {
      "text/plain": [
       "LinearRegression(normalize=True)"
      ]
     },
     "execution_count": 15,
     "metadata": {},
     "output_type": "execute_result"
    }
   ],
   "source": [
    "%%time\n",
    "\n",
    "from sklearn.linear_model import LinearRegression\n",
    "\n",
    "lin_reg = LinearRegression(normalize=True)\n",
    "lin_reg.fit(X_train,y_train)"
   ]
  },
  {
   "cell_type": "markdown",
   "metadata": {},
   "source": [
    "## ✔️ Model Evaluation\n",
    "\n",
    "Let's evaluate the model by checking out it's coefficients and how we can interpret them."
   ]
  },
  {
   "cell_type": "code",
   "execution_count": 16,
   "metadata": {},
   "outputs": [
    {
     "name": "stdout",
     "output_type": "stream",
     "text": [
      "2.24361454233075\n"
     ]
    }
   ],
   "source": [
    "# print the intercept\n",
    "print(lin_reg.intercept_)"
   ]
  },
  {
   "cell_type": "code",
   "execution_count": 17,
   "metadata": {},
   "outputs": [
    {
     "data": {
      "text/html": [
       "<div>\n",
       "<style scoped>\n",
       "    .dataframe tbody tr th:only-of-type {\n",
       "        vertical-align: middle;\n",
       "    }\n",
       "\n",
       "    .dataframe tbody tr th {\n",
       "        vertical-align: top;\n",
       "    }\n",
       "\n",
       "    .dataframe thead th {\n",
       "        text-align: right;\n",
       "    }\n",
       "</style>\n",
       "<table border=\"1\" class=\"dataframe\">\n",
       "  <thead>\n",
       "    <tr style=\"text-align: right;\">\n",
       "      <th></th>\n",
       "      <th>Coefficient</th>\n",
       "    </tr>\n",
       "  </thead>\n",
       "  <tbody>\n",
       "    <tr>\n",
       "      <th>Start_Lat</th>\n",
       "      <td>7.234767e-01</td>\n",
       "    </tr>\n",
       "    <tr>\n",
       "      <th>Start_Lng</th>\n",
       "      <td>5.654346e-01</td>\n",
       "    </tr>\n",
       "    <tr>\n",
       "      <th>End_Lat</th>\n",
       "      <td>-6.842308e-01</td>\n",
       "    </tr>\n",
       "    <tr>\n",
       "      <th>End_Lng</th>\n",
       "      <td>-4.857693e-01</td>\n",
       "    </tr>\n",
       "    <tr>\n",
       "      <th>Distance(mi)</th>\n",
       "      <td>7.854709e-02</td>\n",
       "    </tr>\n",
       "    <tr>\n",
       "      <th>Temperature(F)</th>\n",
       "      <td>1.166318e-02</td>\n",
       "    </tr>\n",
       "    <tr>\n",
       "      <th>Humidity(%)</th>\n",
       "      <td>1.491427e-02</td>\n",
       "    </tr>\n",
       "    <tr>\n",
       "      <th>Pressure(in)</th>\n",
       "      <td>-3.994135e-03</td>\n",
       "    </tr>\n",
       "    <tr>\n",
       "      <th>Visibility(mi)</th>\n",
       "      <td>8.933942e-03</td>\n",
       "    </tr>\n",
       "    <tr>\n",
       "      <th>Wind_Speed(mph)</th>\n",
       "      <td>-4.529543e-03</td>\n",
       "    </tr>\n",
       "    <tr>\n",
       "      <th>Precipitation(in)</th>\n",
       "      <td>-2.825913e-03</td>\n",
       "    </tr>\n",
       "    <tr>\n",
       "      <th>Start_Time_Month</th>\n",
       "      <td>-5.034591e-01</td>\n",
       "    </tr>\n",
       "    <tr>\n",
       "      <th>Start_Time_Year</th>\n",
       "      <td>6.351740e+11</td>\n",
       "    </tr>\n",
       "    <tr>\n",
       "      <th>Start_Time_Hour</th>\n",
       "      <td>-1.412626e-02</td>\n",
       "    </tr>\n",
       "    <tr>\n",
       "      <th>End_Time_Month</th>\n",
       "      <td>1.772130e-01</td>\n",
       "    </tr>\n",
       "    <tr>\n",
       "      <th>End_Time_Year</th>\n",
       "      <td>9.281129e-01</td>\n",
       "    </tr>\n",
       "    <tr>\n",
       "      <th>End_Time_Hour</th>\n",
       "      <td>-2.493385e-02</td>\n",
       "    </tr>\n",
       "    <tr>\n",
       "      <th>Weather_Timestamp_Month</th>\n",
       "      <td>2.521482e-01</td>\n",
       "    </tr>\n",
       "    <tr>\n",
       "      <th>Weather_Timestamp_Year</th>\n",
       "      <td>-6.351740e+11</td>\n",
       "    </tr>\n",
       "    <tr>\n",
       "      <th>Weather_Time_Hour</th>\n",
       "      <td>1.945489e-02</td>\n",
       "    </tr>\n",
       "    <tr>\n",
       "      <th>Timezone_us/central</th>\n",
       "      <td>1.615676e+11</td>\n",
       "    </tr>\n",
       "    <tr>\n",
       "      <th>Timezone_us/eastern</th>\n",
       "      <td>2.063388e+11</td>\n",
       "    </tr>\n",
       "    <tr>\n",
       "      <th>Timezone_us/mountain</th>\n",
       "      <td>1.035294e+11</td>\n",
       "    </tr>\n",
       "    <tr>\n",
       "      <th>Timezone_us/pacific</th>\n",
       "      <td>2.051347e+11</td>\n",
       "    </tr>\n",
       "    <tr>\n",
       "      <th>Crossing_0</th>\n",
       "      <td>9.288579e+09</td>\n",
       "    </tr>\n",
       "    <tr>\n",
       "      <th>Crossing_1</th>\n",
       "      <td>9.288579e+09</td>\n",
       "    </tr>\n",
       "    <tr>\n",
       "      <th>Traffic_Signal_0</th>\n",
       "      <td>-3.412866e+09</td>\n",
       "    </tr>\n",
       "    <tr>\n",
       "      <th>Traffic_Signal_1</th>\n",
       "      <td>-3.412866e+09</td>\n",
       "    </tr>\n",
       "  </tbody>\n",
       "</table>\n",
       "</div>"
      ],
      "text/plain": [
       "                          Coefficient\n",
       "Start_Lat                7.234767e-01\n",
       "Start_Lng                5.654346e-01\n",
       "End_Lat                 -6.842308e-01\n",
       "End_Lng                 -4.857693e-01\n",
       "Distance(mi)             7.854709e-02\n",
       "Temperature(F)           1.166318e-02\n",
       "Humidity(%)              1.491427e-02\n",
       "Pressure(in)            -3.994135e-03\n",
       "Visibility(mi)           8.933942e-03\n",
       "Wind_Speed(mph)         -4.529543e-03\n",
       "Precipitation(in)       -2.825913e-03\n",
       "Start_Time_Month        -5.034591e-01\n",
       "Start_Time_Year          6.351740e+11\n",
       "Start_Time_Hour         -1.412626e-02\n",
       "End_Time_Month           1.772130e-01\n",
       "End_Time_Year            9.281129e-01\n",
       "End_Time_Hour           -2.493385e-02\n",
       "Weather_Timestamp_Month  2.521482e-01\n",
       "Weather_Timestamp_Year  -6.351740e+11\n",
       "Weather_Time_Hour        1.945489e-02\n",
       "Timezone_us/central      1.615676e+11\n",
       "Timezone_us/eastern      2.063388e+11\n",
       "Timezone_us/mountain     1.035294e+11\n",
       "Timezone_us/pacific      2.051347e+11\n",
       "Crossing_0               9.288579e+09\n",
       "Crossing_1               9.288579e+09\n",
       "Traffic_Signal_0        -3.412866e+09\n",
       "Traffic_Signal_1        -3.412866e+09"
      ]
     },
     "execution_count": 17,
     "metadata": {},
     "output_type": "execute_result"
    }
   ],
   "source": [
    "coeff_df = pd.DataFrame(lin_reg.coef_, X.columns, columns=['Coefficient'])\n",
    "coeff_df"
   ]
  },
  {
   "cell_type": "markdown",
   "metadata": {},
   "source": [
    "> Interpreting the coefficients:\n",
    "- Holding all other features fixed, a 1 unit increase in **Distance(mi)** is associated with an **increase of \\0.087860**.\n",
    "- Holding all other features fixed, a 1 unit increase in **Temperature(F)** is associated with an **decrease of \\-0.014064**."
   ]
  },
  {
   "cell_type": "markdown",
   "metadata": {},
   "source": [
    "## ✔️ Predictions from our Model\n",
    "\n",
    "Let's grab predictions off our test set and see how well it did!"
   ]
  },
  {
   "cell_type": "code",
   "execution_count": 18,
   "metadata": {},
   "outputs": [
    {
     "name": "stdout",
     "output_type": "stream",
     "text": [
      "CPU times: user 39.8 ms, sys: 4.36 ms, total: 44.1 ms\n",
      "Wall time: 4.42 ms\n"
     ]
    }
   ],
   "source": [
    "%%time\n",
    "\n",
    "pred = lin_reg.predict(X_test)"
   ]
  },
  {
   "cell_type": "code",
   "execution_count": 19,
   "metadata": {},
   "outputs": [],
   "source": [
    "# import hvplot.pandas\n",
    "\n",
    "# pd.DataFrame({'True Values': y_test, 'Predicted Values': pred}).hvplot.scatter(x='True Values', y='Predicted Values')"
   ]
  },
  {
   "cell_type": "markdown",
   "metadata": {},
   "source": [
    "**Residual Histogram**"
   ]
  },
  {
   "cell_type": "code",
   "execution_count": 20,
   "metadata": {},
   "outputs": [],
   "source": [
    "# pd.DataFrame({'Error Values': (y_test - pred)}).hvplot.kde()"
   ]
  },
  {
   "cell_type": "code",
   "execution_count": 21,
   "metadata": {},
   "outputs": [
    {
     "name": "stdout",
     "output_type": "stream",
     "text": [
      "Test set evaluation:\n",
      "_____________________________________\n",
      "MAE: 0.3853167509259756\n",
      "MSE: 0.32530785796818285\n",
      "RMSE: 0.5703576579377039\n",
      "R2 Square 0.12541345874523124\n",
      "__________________________________\n",
      "Train set evaluation:\n",
      "_____________________________________\n",
      "MAE: 0.38763030745774285\n",
      "MSE: 0.32750736515268436\n",
      "RMSE: 0.5722825920405795\n",
      "R2 Square 0.12594234093292667\n",
      "__________________________________\n",
      "CPU times: user 263 ms, sys: 9.78 ms, total: 273 ms\n",
      "Wall time: 27.2 ms\n"
     ]
    }
   ],
   "source": [
    "%%time\n",
    "\n",
    "test_pred = lin_reg.predict(X_test)\n",
    "train_pred = lin_reg.predict(X_train)\n",
    "\n",
    "print('Test set evaluation:\\n_____________________________________')\n",
    "print_evaluate(y_test, test_pred)\n",
    "print('Train set evaluation:\\n_____________________________________')\n",
    "print_evaluate(y_train, train_pred)"
   ]
  },
  {
   "cell_type": "code",
   "execution_count": 22,
   "metadata": {},
   "outputs": [
    {
     "data": {
      "text/html": [
       "<div>\n",
       "<style scoped>\n",
       "    .dataframe tbody tr th:only-of-type {\n",
       "        vertical-align: middle;\n",
       "    }\n",
       "\n",
       "    .dataframe tbody tr th {\n",
       "        vertical-align: top;\n",
       "    }\n",
       "\n",
       "    .dataframe thead th {\n",
       "        text-align: right;\n",
       "    }\n",
       "</style>\n",
       "<table border=\"1\" class=\"dataframe\">\n",
       "  <thead>\n",
       "    <tr style=\"text-align: right;\">\n",
       "      <th></th>\n",
       "      <th>Model</th>\n",
       "      <th>MAE</th>\n",
       "      <th>MSE</th>\n",
       "      <th>RMSE</th>\n",
       "      <th>R2 Square</th>\n",
       "      <th>Cross Validation</th>\n",
       "    </tr>\n",
       "  </thead>\n",
       "  <tbody>\n",
       "    <tr>\n",
       "      <th>0</th>\n",
       "      <td>Linear Regression</td>\n",
       "      <td>0.385317</td>\n",
       "      <td>0.325308</td>\n",
       "      <td>0.570358</td>\n",
       "      <td>0.125413</td>\n",
       "      <td>-0.091373</td>\n",
       "    </tr>\n",
       "  </tbody>\n",
       "</table>\n",
       "</div>"
      ],
      "text/plain": [
       "               Model       MAE       MSE      RMSE  R2 Square  \\\n",
       "0  Linear Regression  0.385317  0.325308  0.570358   0.125413   \n",
       "\n",
       "   Cross Validation  \n",
       "0         -0.091373  "
      ]
     },
     "execution_count": 22,
     "metadata": {},
     "output_type": "execute_result"
    }
   ],
   "source": [
    "results_df = pd.DataFrame(data=[[\"Linear Regression\", *evaluate(y_test, test_pred) , cross_val(LinearRegression())]], \n",
    "                          columns=['Model', 'MAE', 'MSE', 'RMSE', 'R2 Square', \"Cross Validation\"])\n",
    "results_df"
   ]
  },
  {
   "cell_type": "code",
   "execution_count": 23,
   "metadata": {},
   "outputs": [
    {
     "name": "stdout",
     "output_type": "stream",
     "text": [
      "Submission was successfully saved!\n",
      "CPU times: user 2.04 s, sys: 48.3 ms, total: 2.09 s\n",
      "Wall time: 286 ms\n"
     ]
    }
   ],
   "source": [
    "%%time\n",
    "\n",
    "y_predict_model_lin_reg = lin_reg.predict(TEST)\n",
    "\n",
    "output = pd.DataFrame({\"ID\": accident_ID, \"Severity\": y_predict_model_lin_reg})\n",
    "\n",
    "output.to_csv('submission_lin_reg.csv', index=False)\n",
    "print(\"Submission was successfully saved!\")"
   ]
  },
  {
   "cell_type": "markdown",
   "metadata": {},
   "source": [
    "# Regularization Techniques\n",
    "\n",
    "* Linear regression works by selecting coefficients for each independent variable that minimizes a loss function. However, if the coefficients are too large, it can lead to model over-fitting on the training dataset. Such a model will not generalize well on the unseen data. To overcome this shortcoming, we do regularization which penalizes large coefficients. The following are the regularization algorithms.\n",
    "\n",
    "#### Pros of Regularization\n",
    "\n",
    "--> We can use a regularized model to reduce the dimensionality of the training dataset. Dimensionality reduction is important because of three main reasons:\n",
    "\n",
    "--> Prevents Overfitting: A high-dimensional dataset having too many features can sometimes lead to overfitting (model captures both real and random effects).\n",
    "\n",
    "--> Simplicity: An over-complex model having too many features can be hard to interpret especially when features are correlated with each other.\n",
    "\n",
    "--> Computational Efficiency: A model trained on a lower dimensional dataset is computationally efficient (execution of algorithm requires less computational time).\n",
    "\n",
    "\n",
    "#### Cons of Regularization\n",
    "\n",
    "--> Regularization leads to dimensionality reduction, which means the machine learning model is built using a lower dimensional dataset. This generally leads to a high bias errror.\n",
    "\n",
    "--> If regularization is performed before training the model, a perfect balance between bias-variance tradeoff must be used.\n"
   ]
  },
  {
   "cell_type": "markdown",
   "metadata": {},
   "source": [
    "# ✔️ Ridge Regression\n",
    "\n",
    "> Source: [scikit-learn](http://scikit-learn.org/stable/modules/linear_model.html#ridge-regression)\n",
    "\n",
    "> Ridge regression addresses some of the problems of **Ordinary Least Squares** by imposing a penalty on the size of coefficients. The ridge coefficients minimize a penalized residual sum of squares,\n",
    "\n",
    "$$\\min_{w}\\big|\\big|Xw-y\\big|\\big|^2_2+\\alpha\\big|\\big|w\\big|\\big|^2_2$$\n",
    "\n",
    "> $\\alpha>=0$ is a complexity parameter that controls the amount of shrinkage: the larger the value of $\\alpha$, the greater the amount of shrinkage and thus the coefficients become more robust to collinearity.\n",
    "\n",
    "> Ridge regression is an L2 penalized model. Add the squared sum of the weights to the least-squares cost function.\n",
    "***\n",
    "\n",
    "#### Pros\n",
    "\n",
    "--> Avoids overfitting a model.\n",
    "\n",
    "--> The ridge estimator is preferably good at improving the least-squares estimate when there is multicollinearity.\n",
    "\n",
    "\n",
    "#### Cons\n",
    "\n",
    "--> They include all the predictors in the final model.\n",
    "\n",
    "--> They are unable to perform feature selection.\n",
    "\n",
    "--> They shrink the coefficients towards zero.\n",
    "\n",
    "--> They trade the variance for bias."
   ]
  },
  {
   "cell_type": "code",
   "execution_count": 24,
   "metadata": {},
   "outputs": [
    {
     "name": "stdout",
     "output_type": "stream",
     "text": [
      "Test set evaluation:\n",
      "_____________________________________\n",
      "MAE: 0.3852794462053373\n",
      "MSE: 0.3253366430810204\n",
      "RMSE: 0.5703828916447445\n",
      "R2 Square 0.1253360702910039\n",
      "__________________________________\n",
      "====================================\n",
      "Train set evaluation:\n",
      "_____________________________________\n",
      "MAE: 0.38759830419573604\n",
      "MSE: 0.327554370098635\n",
      "RMSE: 0.5723236585173069\n",
      "R2 Square 0.12581689327161072\n",
      "__________________________________\n",
      "CPU times: user 428 ms, sys: 14.1 ms, total: 442 ms\n",
      "Wall time: 79 ms\n"
     ]
    }
   ],
   "source": [
    "%%time\n",
    "\n",
    "from sklearn.linear_model import Ridge\n",
    "\n",
    "model = Ridge(alpha=100, solver='cholesky', tol=0.0001, random_state=42)\n",
    "model.fit(X_train, y_train)\n",
    "pred = model.predict(X_test)\n",
    "\n",
    "test_pred = model.predict(X_test)\n",
    "train_pred = model.predict(X_train)\n",
    "\n",
    "print('Test set evaluation:\\n_____________________________________')\n",
    "print_evaluate(y_test, test_pred)\n",
    "print('====================================')\n",
    "print('Train set evaluation:\\n_____________________________________')\n",
    "print_evaluate(y_train, train_pred)"
   ]
  },
  {
   "cell_type": "code",
   "execution_count": 25,
   "metadata": {},
   "outputs": [
    {
     "data": {
      "text/html": [
       "<div>\n",
       "<style scoped>\n",
       "    .dataframe tbody tr th:only-of-type {\n",
       "        vertical-align: middle;\n",
       "    }\n",
       "\n",
       "    .dataframe tbody tr th {\n",
       "        vertical-align: top;\n",
       "    }\n",
       "\n",
       "    .dataframe thead th {\n",
       "        text-align: right;\n",
       "    }\n",
       "</style>\n",
       "<table border=\"1\" class=\"dataframe\">\n",
       "  <thead>\n",
       "    <tr style=\"text-align: right;\">\n",
       "      <th></th>\n",
       "      <th>Model</th>\n",
       "      <th>MAE</th>\n",
       "      <th>MSE</th>\n",
       "      <th>RMSE</th>\n",
       "      <th>R2 Square</th>\n",
       "      <th>Cross Validation</th>\n",
       "    </tr>\n",
       "  </thead>\n",
       "  <tbody>\n",
       "    <tr>\n",
       "      <th>0</th>\n",
       "      <td>Linear Regression</td>\n",
       "      <td>0.385317</td>\n",
       "      <td>0.325308</td>\n",
       "      <td>0.570358</td>\n",
       "      <td>0.125413</td>\n",
       "      <td>-0.091373</td>\n",
       "    </tr>\n",
       "    <tr>\n",
       "      <th>1</th>\n",
       "      <td>Ridge Regression</td>\n",
       "      <td>0.385279</td>\n",
       "      <td>0.325337</td>\n",
       "      <td>0.570383</td>\n",
       "      <td>0.125336</td>\n",
       "      <td>-0.091362</td>\n",
       "    </tr>\n",
       "  </tbody>\n",
       "</table>\n",
       "</div>"
      ],
      "text/plain": [
       "               Model       MAE       MSE      RMSE  R2 Square  \\\n",
       "0  Linear Regression  0.385317  0.325308  0.570358   0.125413   \n",
       "1   Ridge Regression  0.385279  0.325337  0.570383   0.125336   \n",
       "\n",
       "   Cross Validation  \n",
       "0         -0.091373  \n",
       "1         -0.091362  "
      ]
     },
     "execution_count": 25,
     "metadata": {},
     "output_type": "execute_result"
    }
   ],
   "source": [
    "results_df_2 = pd.DataFrame(data=[[\"Ridge Regression\", *evaluate(y_test, test_pred) , cross_val(Ridge())]], \n",
    "                            columns=['Model', 'MAE', 'MSE', 'RMSE', 'R2 Square', \"Cross Validation\"])\n",
    "results_df = results_df.append(results_df_2, ignore_index=True)\n",
    "results_df"
   ]
  },
  {
   "cell_type": "code",
   "execution_count": 26,
   "metadata": {},
   "outputs": [
    {
     "name": "stdout",
     "output_type": "stream",
     "text": [
      "Submission was successfully saved!\n",
      "CPU times: user 2.04 s, sys: 26.4 ms, total: 2.07 s\n",
      "Wall time: 252 ms\n"
     ]
    }
   ],
   "source": [
    "%%time\n",
    "\n",
    "y_predict_Ridge = model.predict(TEST)\n",
    "\n",
    "output = pd.DataFrame({\"ID\": accident_ID, \"Severity\": y_predict_Ridge})\n",
    "\n",
    "output.to_csv('submission_Ridge.csv', index=False)\n",
    "print(\"Submission was successfully saved!\")"
   ]
  },
  {
   "cell_type": "markdown",
   "metadata": {},
   "source": [
    "# ✔️ LASSO Regression\n",
    "\n",
    "> A linear model that estimates sparse coefficients.\n",
    "\n",
    "> Mathematically, it consists of a linear model trained with $\\ell_1$ prior as regularizer. The objective function to minimize is:\n",
    "\n",
    "$$\\min_{w}\\frac{1}{2n_{samples}} \\big|\\big|Xw - y\\big|\\big|_2^2 + \\alpha \\big|\\big|w\\big|\\big|_1$$\n",
    "\n",
    "> The lasso estimate thus solves the minimization of the least-squares penalty with $\\alpha \\big|\\big|w\\big|\\big|_1$ added, where $\\alpha$ is a constant and $\\big|\\big|w\\big|\\big|_1$ is the $\\ell_1-norm$ of the parameter vector.\n",
    "***\n",
    "\n",
    "#### Pros\n",
    "\n",
    "--> Avoids overfitting a model.\n",
    "\n",
    "--> The ridge estimator is preferably good at improving the least-squares estimate when there is multicollinearity.\n",
    "\n",
    "\n",
    "#### Cons\n",
    "\n",
    "--> They include all the predictors in the final model.\n",
    "\n",
    "--> They are unable to perform feature selection.\n",
    "\n",
    "--> They shrink the coefficients towards zero.\n",
    "\n",
    "--> They trade the variance for bias.\n"
   ]
  },
  {
   "cell_type": "code",
   "execution_count": 27,
   "metadata": {},
   "outputs": [
    {
     "name": "stdout",
     "output_type": "stream",
     "text": [
      "Test set evaluation:\n",
      "_____________________________________\n",
      "MAE: 0.430101683556494\n",
      "MSE: 0.36924023658161503\n",
      "RMSE: 0.607651410416873\n",
      "R2 Square 0.007301749730275309\n",
      "__________________________________\n",
      "====================================\n",
      "Train set evaluation:\n",
      "_____________________________________\n",
      "MAE: 0.4319814619249655\n",
      "MSE: 0.3719711859477316\n",
      "RMSE: 0.6098944055717609\n",
      "R2 Square 0.007276481008895885\n",
      "__________________________________\n",
      "CPU times: user 417 ms, sys: 17.3 ms, total: 434 ms\n",
      "Wall time: 76.9 ms\n"
     ]
    }
   ],
   "source": [
    "%%time\n",
    "\n",
    "from sklearn.linear_model import Lasso\n",
    "\n",
    "model = Lasso(alpha=0.1, \n",
    "              precompute=True, \n",
    "              positive=True, \n",
    "              selection='random',\n",
    "              random_state=42)\n",
    "model.fit(X_train, y_train)\n",
    "\n",
    "test_pred = model.predict(X_test)\n",
    "train_pred = model.predict(X_train)\n",
    "\n",
    "print('Test set evaluation:\\n_____________________________________')\n",
    "print_evaluate(y_test, test_pred)\n",
    "print('====================================')\n",
    "print('Train set evaluation:\\n_____________________________________')\n",
    "print_evaluate(y_train, train_pred)"
   ]
  },
  {
   "cell_type": "code",
   "execution_count": 28,
   "metadata": {},
   "outputs": [
    {
     "data": {
      "text/html": [
       "<div>\n",
       "<style scoped>\n",
       "    .dataframe tbody tr th:only-of-type {\n",
       "        vertical-align: middle;\n",
       "    }\n",
       "\n",
       "    .dataframe tbody tr th {\n",
       "        vertical-align: top;\n",
       "    }\n",
       "\n",
       "    .dataframe thead th {\n",
       "        text-align: right;\n",
       "    }\n",
       "</style>\n",
       "<table border=\"1\" class=\"dataframe\">\n",
       "  <thead>\n",
       "    <tr style=\"text-align: right;\">\n",
       "      <th></th>\n",
       "      <th>Model</th>\n",
       "      <th>MAE</th>\n",
       "      <th>MSE</th>\n",
       "      <th>RMSE</th>\n",
       "      <th>R2 Square</th>\n",
       "      <th>Cross Validation</th>\n",
       "    </tr>\n",
       "  </thead>\n",
       "  <tbody>\n",
       "    <tr>\n",
       "      <th>0</th>\n",
       "      <td>Linear Regression</td>\n",
       "      <td>0.385317</td>\n",
       "      <td>0.325308</td>\n",
       "      <td>0.570358</td>\n",
       "      <td>0.125413</td>\n",
       "      <td>-0.091373</td>\n",
       "    </tr>\n",
       "    <tr>\n",
       "      <th>1</th>\n",
       "      <td>Ridge Regression</td>\n",
       "      <td>0.385279</td>\n",
       "      <td>0.325337</td>\n",
       "      <td>0.570383</td>\n",
       "      <td>0.125336</td>\n",
       "      <td>-0.091362</td>\n",
       "    </tr>\n",
       "    <tr>\n",
       "      <th>2</th>\n",
       "      <td>Lasso Regression</td>\n",
       "      <td>0.430102</td>\n",
       "      <td>0.369240</td>\n",
       "      <td>0.607651</td>\n",
       "      <td>0.007302</td>\n",
       "      <td>-0.304343</td>\n",
       "    </tr>\n",
       "  </tbody>\n",
       "</table>\n",
       "</div>"
      ],
      "text/plain": [
       "               Model       MAE       MSE      RMSE  R2 Square  \\\n",
       "0  Linear Regression  0.385317  0.325308  0.570358   0.125413   \n",
       "1   Ridge Regression  0.385279  0.325337  0.570383   0.125336   \n",
       "2   Lasso Regression  0.430102  0.369240  0.607651   0.007302   \n",
       "\n",
       "   Cross Validation  \n",
       "0         -0.091373  \n",
       "1         -0.091362  \n",
       "2         -0.304343  "
      ]
     },
     "execution_count": 28,
     "metadata": {},
     "output_type": "execute_result"
    }
   ],
   "source": [
    "results_df_2 = pd.DataFrame(data=[[\"Lasso Regression\", *evaluate(y_test, test_pred) , cross_val(Lasso())]], \n",
    "                            columns=['Model', 'MAE', 'MSE', 'RMSE', 'R2 Square', \"Cross Validation\"])\n",
    "results_df = results_df.append(results_df_2, ignore_index=True)\n",
    "results_df"
   ]
  },
  {
   "cell_type": "code",
   "execution_count": 29,
   "metadata": {},
   "outputs": [
    {
     "name": "stdout",
     "output_type": "stream",
     "text": [
      "Submission was successfully saved!\n",
      "CPU times: user 2.03 s, sys: 32.5 ms, total: 2.06 s\n",
      "Wall time: 256 ms\n"
     ]
    }
   ],
   "source": [
    "%%time\n",
    "\n",
    "y_predict_Lasso = model.predict(TEST)\n",
    "\n",
    "output = pd.DataFrame({\"ID\": accident_ID, \"Severity\": y_predict_Lasso})\n",
    "\n",
    "output.to_csv('submission_lasso.csv', index=False)\n",
    "print(\"Submission was successfully saved!\")"
   ]
  },
  {
   "cell_type": "markdown",
   "metadata": {},
   "source": [
    "# ✔️ Elastic Net\n",
    "\n",
    "> A linear regression model trained with L1 and L2 prior as regularizer. \n",
    "\n",
    "> This combination allows for learning a sparse model where few of the weights are non-zero like Lasso, while still maintaining the regularization properties of Ridge. \n",
    "\n",
    "> Elastic-net is useful when there are multiple features which are correlated with one another. Lasso is likely to pick one of these at random, while elastic-net is likely to pick both.\n",
    "\n",
    "> A practical advantage of trading-off between Lasso and Ridge is it allows Elastic-Net to inherit some of Ridge’s stability under rotation.\n",
    "\n",
    "> The objective function to minimize is in this case\n",
    "\n",
    "$$\\min_{w}{\\frac{1}{2n_{samples}} \\big|\\big|X w - y\\big|\\big|_2 ^ 2 + \\alpha \\rho \\big|\\big|w\\big|\\big|_1 +\n",
    "\\frac{\\alpha(1-\\rho)}{2} \\big|\\big|w\\big|\\big|_2 ^ 2}$$\n",
    "***\n",
    "\n",
    "#### Pros\n",
    "--> Doesn’t have the problem of selecting more than n predictors when n<<p, whereas LASSO saturates when n<<p.\n",
    "\n",
    "#### Cons\n",
    "--> Computationally more expensive than LASSO or Ridge."
   ]
  },
  {
   "cell_type": "code",
   "execution_count": 30,
   "metadata": {},
   "outputs": [
    {
     "name": "stdout",
     "output_type": "stream",
     "text": [
      "Test set evaluation:\n",
      "_____________________________________\n",
      "MAE: 0.4187296784429212\n",
      "MSE: 0.3553239461566491\n",
      "RMSE: 0.5960905519773393\n",
      "R2 Square 0.04471554104133013\n",
      "__________________________________\n",
      "====================================\n",
      "Train set evaluation:\n",
      "_____________________________________\n",
      "MAE: 0.4209772796182415\n",
      "MSE: 0.35796199800823664\n",
      "RMSE: 0.5982992545609903\n",
      "R2 Square 0.04466445855901002\n",
      "__________________________________\n",
      "CPU times: user 1.33 s, sys: 17.5 ms, total: 1.35 s\n",
      "Wall time: 190 ms\n"
     ]
    }
   ],
   "source": [
    "%%time \n",
    "\n",
    "from sklearn.linear_model import ElasticNet\n",
    "\n",
    "model = ElasticNet(alpha=0.1, l1_ratio=0.9, selection='random', random_state=42)\n",
    "model.fit(X_train, y_train)\n",
    "\n",
    "test_pred = model.predict(X_test)\n",
    "train_pred = model.predict(X_train)\n",
    "\n",
    "print('Test set evaluation:\\n_____________________________________')\n",
    "print_evaluate(y_test, test_pred)\n",
    "print('====================================')\n",
    "print('Train set evaluation:\\n_____________________________________')\n",
    "print_evaluate(y_train, train_pred)"
   ]
  },
  {
   "cell_type": "code",
   "execution_count": 31,
   "metadata": {},
   "outputs": [
    {
     "data": {
      "text/html": [
       "<div>\n",
       "<style scoped>\n",
       "    .dataframe tbody tr th:only-of-type {\n",
       "        vertical-align: middle;\n",
       "    }\n",
       "\n",
       "    .dataframe tbody tr th {\n",
       "        vertical-align: top;\n",
       "    }\n",
       "\n",
       "    .dataframe thead th {\n",
       "        text-align: right;\n",
       "    }\n",
       "</style>\n",
       "<table border=\"1\" class=\"dataframe\">\n",
       "  <thead>\n",
       "    <tr style=\"text-align: right;\">\n",
       "      <th></th>\n",
       "      <th>Model</th>\n",
       "      <th>MAE</th>\n",
       "      <th>MSE</th>\n",
       "      <th>RMSE</th>\n",
       "      <th>R2 Square</th>\n",
       "      <th>Cross Validation</th>\n",
       "    </tr>\n",
       "  </thead>\n",
       "  <tbody>\n",
       "    <tr>\n",
       "      <th>0</th>\n",
       "      <td>Linear Regression</td>\n",
       "      <td>0.385317</td>\n",
       "      <td>0.325308</td>\n",
       "      <td>0.570358</td>\n",
       "      <td>0.125413</td>\n",
       "      <td>-0.091373</td>\n",
       "    </tr>\n",
       "    <tr>\n",
       "      <th>1</th>\n",
       "      <td>Ridge Regression</td>\n",
       "      <td>0.385279</td>\n",
       "      <td>0.325337</td>\n",
       "      <td>0.570383</td>\n",
       "      <td>0.125336</td>\n",
       "      <td>-0.091362</td>\n",
       "    </tr>\n",
       "    <tr>\n",
       "      <th>2</th>\n",
       "      <td>Lasso Regression</td>\n",
       "      <td>0.430102</td>\n",
       "      <td>0.369240</td>\n",
       "      <td>0.607651</td>\n",
       "      <td>0.007302</td>\n",
       "      <td>-0.304343</td>\n",
       "    </tr>\n",
       "    <tr>\n",
       "      <th>3</th>\n",
       "      <td>Elastic Net Regression</td>\n",
       "      <td>0.418730</td>\n",
       "      <td>0.355324</td>\n",
       "      <td>0.596091</td>\n",
       "      <td>0.044716</td>\n",
       "      <td>-0.322343</td>\n",
       "    </tr>\n",
       "  </tbody>\n",
       "</table>\n",
       "</div>"
      ],
      "text/plain": [
       "                    Model       MAE       MSE      RMSE  R2 Square  \\\n",
       "0       Linear Regression  0.385317  0.325308  0.570358   0.125413   \n",
       "1        Ridge Regression  0.385279  0.325337  0.570383   0.125336   \n",
       "2        Lasso Regression  0.430102  0.369240  0.607651   0.007302   \n",
       "3  Elastic Net Regression  0.418730  0.355324  0.596091   0.044716   \n",
       "\n",
       "   Cross Validation  \n",
       "0         -0.091373  \n",
       "1         -0.091362  \n",
       "2         -0.304343  \n",
       "3         -0.322343  "
      ]
     },
     "execution_count": 31,
     "metadata": {},
     "output_type": "execute_result"
    }
   ],
   "source": [
    "results_df_2 = pd.DataFrame(data=[[\"Elastic Net Regression\", *evaluate(y_test, test_pred) , cross_val(ElasticNet())]], \n",
    "                            columns=['Model', 'MAE', 'MSE', 'RMSE', 'R2 Square', \"Cross Validation\"])\n",
    "results_df = results_df.append(results_df_2, ignore_index=True)\n",
    "results_df"
   ]
  },
  {
   "cell_type": "code",
   "execution_count": 32,
   "metadata": {},
   "outputs": [
    {
     "name": "stdout",
     "output_type": "stream",
     "text": [
      "Submission was successfully saved!\n",
      "CPU times: user 2.04 s, sys: 13.9 ms, total: 2.05 s\n",
      "Wall time: 238 ms\n"
     ]
    }
   ],
   "source": [
    "%%time\n",
    "\n",
    "y_predict_ElasticNet = model.predict(TEST)\n",
    "\n",
    "output = pd.DataFrame({\"ID\": accident_ID, \"Severity\": y_predict_ElasticNet})\n",
    "\n",
    "output.to_csv('submission_ElasticNet.csv', index=False)\n",
    "print(\"Submission was successfully saved!\")"
   ]
  },
  {
   "cell_type": "markdown",
   "metadata": {},
   "source": [
    "# ✔️ Polynomial Regression\n",
    "> Source: [scikit-learn](http://scikit-learn.org/stable/modules/linear_model.html#polynomial-regression-extending-linear-models-with-basis-functions)\n",
    "\n",
    "***\n",
    "\n",
    "> One common pattern within machine learning is to use linear models trained on nonlinear functions of the data. This approach maintains the generally fast performance of linear methods, while allowing them to fit a much wider range of data.\n",
    "\n",
    "> For example, a simple linear regression can be extended by constructing polynomial features from the coefficients. In the standard linear regression case, you might have a model that looks like this for two-dimensional data:\n",
    "\n",
    "$$\\hat{y}(w, x) = w_0 + w_1 x_1 + w_2 x_2$$\n",
    "\n",
    "> If we want to fit a paraboloid to the data instead of a plane, we can combine the features in second-order polynomials, so that the model looks like this:\n",
    "\n",
    "$$\\hat{y}(w, x) = w_0 + w_1 x_1 + w_2 x_2 + w_3 x_1 x_2 + w_4 x_1^2 + w_5 x_2^2$$\n",
    "\n",
    "> The (sometimes surprising) observation is that this is still a linear model: to see this, imagine creating a new variable\n",
    "\n",
    "$$z = [x_1, x_2, x_1 x_2, x_1^2, x_2^2]$$\n",
    "\n",
    "> With this re-labeling of the data, our problem can be written\n",
    "\n",
    "$$\\hat{y}(w, x) = w_0 + w_1 z_1 + w_2 z_2 + w_3 z_3 + w_4 z_4 + w_5 z_5$$\n",
    "\n",
    "> We see that the resulting polynomial regression is in the same class of linear models we’d considered above (i.e. the model is linear in w) and can be solved by the same techniques. By considering linear fits within a higher-dimensional space built with these basis functions, the model has the flexibility to fit a much broader range of data.\n",
    "***"
   ]
  },
  {
   "cell_type": "code",
   "execution_count": 33,
   "metadata": {},
   "outputs": [],
   "source": [
    "# %%time\n",
    "\n",
    "# from sklearn.preprocessing import PolynomialFeatures\n",
    "\n",
    "# poly_reg = PolynomialFeatures(degree=2)\n",
    "\n",
    "# X_train_2_d = poly_reg.fit_transform(X_train)\n",
    "# X_test_2_d = poly_reg.transform(X_test)\n",
    "\n",
    "# lin_reg = LinearRegression(normalize=True)\n",
    "# lin_reg.fit(X_train_2_d,y_train)\n",
    "\n",
    "# test_pred = lin_reg.predict(X_test_2_d)\n",
    "# train_pred = lin_reg.predict(X_train_2_d)\n",
    "\n",
    "# print('Test set evaluation:\\n_____________________________________')\n",
    "# print_evaluate(y_test, test_pred)\n",
    "# print('====================================')\n",
    "# print('Train set evaluation:\\n_____________________________________')\n",
    "# print_evaluate(y_train, train_pred)"
   ]
  },
  {
   "cell_type": "code",
   "execution_count": 34,
   "metadata": {
    "tags": []
   },
   "outputs": [],
   "source": [
    "# results_df_2 = pd.DataFrame(data=[[\"Polynomail Regression\", *evaluate(y_test, test_pred), 0]], \n",
    "#                             columns=['Model', 'MAE', 'MSE', 'RMSE', 'R2 Square', 'Cross Validation'])\n",
    "# results_df = results_df.append(results_df_2, ignore_index=True)\n",
    "# results_df"
   ]
  },
  {
   "cell_type": "code",
   "execution_count": 35,
   "metadata": {},
   "outputs": [],
   "source": [
    "# %%time\n",
    "\n",
    "# y_predict_poly_reg = lin_reg.predict(TEST)\n",
    "\n",
    "# output = pd.DataFrame()\n",
    "# output['ID'] = accident_ID\n",
    "# output['Severity'] = y_predict_poly_reg\n",
    "\n",
    "# output.to_csv('submission_poly_reg.csv', index=False)\n",
    "# print(\"Submission was successfully saved!\")"
   ]
  },
  {
   "cell_type": "markdown",
   "metadata": {},
   "source": [
    "# ✔️ Stochastic Gradient Descent\n",
    "\n",
    "> Gradient Descent is a very generic optimization algorithm capable of finding optimal solutions to a wide range of problems. The general idea of Gradient Sescent is to tweak parameters iteratively in order to minimize a cost function. Gradient Descent measures the local gradient of the error function with regards to the parameters vector, and it goes in the direction of descending gradient. Once the gradient is zero, you have reached a minimum."
   ]
  },
  {
   "cell_type": "code",
   "execution_count": 36,
   "metadata": {},
   "outputs": [
    {
     "name": "stdout",
     "output_type": "stream",
     "text": [
      "Test set evaluation:\n",
      "_____________________________________\n",
      "MAE: 0.38522408281901527\n",
      "MSE: 0.3253491415906955\n",
      "RMSE: 0.5703938477847526\n",
      "R2 Square 0.12530246818739688\n",
      "__________________________________\n",
      "====================================\n",
      "Train set evaluation:\n",
      "_____________________________________\n",
      "MAE: 0.3875512023674647\n",
      "MSE: 0.32757176150470674\n",
      "RMSE: 0.5723388519965308\n",
      "R2 Square 0.12577047876831582\n",
      "__________________________________\n",
      "CPU times: user 18.6 s, sys: 22.4 ms, total: 18.7 s\n",
      "Wall time: 18.4 s\n"
     ]
    }
   ],
   "source": [
    "%%time\n",
    "\n",
    "from sklearn.linear_model import SGDRegressor\n",
    "\n",
    "sgd_reg = SGDRegressor(n_iter_no_change=250, penalty=None, eta0=0.0001, max_iter=100000)\n",
    "sgd_reg.fit(X_train, y_train)\n",
    "\n",
    "test_pred = sgd_reg.predict(X_test)\n",
    "train_pred = sgd_reg.predict(X_train)\n",
    "\n",
    "print('Test set evaluation:\\n_____________________________________')\n",
    "print_evaluate(y_test, test_pred)\n",
    "print('====================================')\n",
    "print('Train set evaluation:\\n_____________________________________')\n",
    "print_evaluate(y_train, train_pred)"
   ]
  },
  {
   "cell_type": "code",
   "execution_count": 37,
   "metadata": {},
   "outputs": [
    {
     "data": {
      "text/html": [
       "<div>\n",
       "<style scoped>\n",
       "    .dataframe tbody tr th:only-of-type {\n",
       "        vertical-align: middle;\n",
       "    }\n",
       "\n",
       "    .dataframe tbody tr th {\n",
       "        vertical-align: top;\n",
       "    }\n",
       "\n",
       "    .dataframe thead th {\n",
       "        text-align: right;\n",
       "    }\n",
       "</style>\n",
       "<table border=\"1\" class=\"dataframe\">\n",
       "  <thead>\n",
       "    <tr style=\"text-align: right;\">\n",
       "      <th></th>\n",
       "      <th>Model</th>\n",
       "      <th>MAE</th>\n",
       "      <th>MSE</th>\n",
       "      <th>RMSE</th>\n",
       "      <th>R2 Square</th>\n",
       "      <th>Cross Validation</th>\n",
       "    </tr>\n",
       "  </thead>\n",
       "  <tbody>\n",
       "    <tr>\n",
       "      <th>0</th>\n",
       "      <td>Linear Regression</td>\n",
       "      <td>0.385317</td>\n",
       "      <td>0.325308</td>\n",
       "      <td>0.570358</td>\n",
       "      <td>0.125413</td>\n",
       "      <td>-0.091373</td>\n",
       "    </tr>\n",
       "    <tr>\n",
       "      <th>1</th>\n",
       "      <td>Ridge Regression</td>\n",
       "      <td>0.385279</td>\n",
       "      <td>0.325337</td>\n",
       "      <td>0.570383</td>\n",
       "      <td>0.125336</td>\n",
       "      <td>-0.091362</td>\n",
       "    </tr>\n",
       "    <tr>\n",
       "      <th>2</th>\n",
       "      <td>Lasso Regression</td>\n",
       "      <td>0.430102</td>\n",
       "      <td>0.369240</td>\n",
       "      <td>0.607651</td>\n",
       "      <td>0.007302</td>\n",
       "      <td>-0.304343</td>\n",
       "    </tr>\n",
       "    <tr>\n",
       "      <th>3</th>\n",
       "      <td>Elastic Net Regression</td>\n",
       "      <td>0.418730</td>\n",
       "      <td>0.355324</td>\n",
       "      <td>0.596091</td>\n",
       "      <td>0.044716</td>\n",
       "      <td>-0.322343</td>\n",
       "    </tr>\n",
       "    <tr>\n",
       "      <th>4</th>\n",
       "      <td>Stochastic Gradient Descent</td>\n",
       "      <td>0.385224</td>\n",
       "      <td>0.325349</td>\n",
       "      <td>0.570394</td>\n",
       "      <td>0.125302</td>\n",
       "      <td>0.000000</td>\n",
       "    </tr>\n",
       "  </tbody>\n",
       "</table>\n",
       "</div>"
      ],
      "text/plain": [
       "                         Model       MAE       MSE      RMSE  R2 Square  \\\n",
       "0            Linear Regression  0.385317  0.325308  0.570358   0.125413   \n",
       "1             Ridge Regression  0.385279  0.325337  0.570383   0.125336   \n",
       "2             Lasso Regression  0.430102  0.369240  0.607651   0.007302   \n",
       "3       Elastic Net Regression  0.418730  0.355324  0.596091   0.044716   \n",
       "4  Stochastic Gradient Descent  0.385224  0.325349  0.570394   0.125302   \n",
       "\n",
       "   Cross Validation  \n",
       "0         -0.091373  \n",
       "1         -0.091362  \n",
       "2         -0.304343  \n",
       "3         -0.322343  \n",
       "4          0.000000  "
      ]
     },
     "execution_count": 37,
     "metadata": {},
     "output_type": "execute_result"
    }
   ],
   "source": [
    "results_df_2 = pd.DataFrame(data=[[\"Stochastic Gradient Descent\", *evaluate(y_test, test_pred), 0]], \n",
    "                            columns=['Model', 'MAE', 'MSE', 'RMSE', 'R2 Square', 'Cross Validation'])\n",
    "results_df = results_df.append(results_df_2, ignore_index=True)\n",
    "results_df"
   ]
  },
  {
   "cell_type": "code",
   "execution_count": 38,
   "metadata": {},
   "outputs": [
    {
     "data": {
      "text/plain": [
       "0         2\n",
       "1         3\n",
       "2         2\n",
       "3         3\n",
       "4         2\n",
       "         ..\n",
       "149717    2\n",
       "149718    2\n",
       "149719    2\n",
       "149720    2\n",
       "149721    2\n",
       "Name: Severity, Length: 149722, dtype: int64"
      ]
     },
     "execution_count": 38,
     "metadata": {},
     "output_type": "execute_result"
    }
   ],
   "source": [
    "y_test"
   ]
  },
  {
   "cell_type": "code",
   "execution_count": 39,
   "metadata": {},
   "outputs": [
    {
     "data": {
      "text/plain": [
       "array([2.71166357, 2.71281759, 2.72428767, ..., 2.10403941, 1.82931094,\n",
       "       2.071749  ])"
      ]
     },
     "execution_count": 39,
     "metadata": {},
     "output_type": "execute_result"
    }
   ],
   "source": [
    "train_pred"
   ]
  },
  {
   "cell_type": "code",
   "execution_count": 40,
   "metadata": {},
   "outputs": [
    {
     "data": {
      "text/plain": [
       "array([2.69931334, 2.77740844, 2.83606316, ..., 1.87414237, 2.14977848,\n",
       "       2.17447062])"
      ]
     },
     "execution_count": 40,
     "metadata": {},
     "output_type": "execute_result"
    }
   ],
   "source": [
    "test_pred"
   ]
  },
  {
   "cell_type": "code",
   "execution_count": 41,
   "metadata": {},
   "outputs": [
    {
     "data": {
      "text/plain": [
       "array([[ 0.42209414,  0.76827295,  0.42148414, ..., -0.24477601,\n",
       "         0.35342509, -0.35342509],\n",
       "       [ 0.80233005,  0.92985185,  0.80232369, ..., -0.24477601,\n",
       "         0.35342509, -0.35342509],\n",
       "       [ 0.41467812,  0.79484477,  0.4154528 , ..., -0.24477601,\n",
       "        -2.82945393,  2.82945393],\n",
       "       ...,\n",
       "       [-0.63579289,  1.06806695, -0.63508885, ..., -0.24477601,\n",
       "         0.35342509, -0.35342509],\n",
       "       [ 0.33513664, -1.22058291,  0.33507691, ..., -0.24477601,\n",
       "        -2.82945393,  2.82945393],\n",
       "       [ 1.48290355, -1.06426496,  1.48299411, ..., -0.24477601,\n",
       "         0.35342509, -0.35342509]])"
      ]
     },
     "execution_count": 41,
     "metadata": {},
     "output_type": "execute_result"
    }
   ],
   "source": [
    "X_train"
   ]
  },
  {
   "cell_type": "code",
   "execution_count": 42,
   "metadata": {},
   "outputs": [
    {
     "data": {
      "text/plain": [
       "0         2\n",
       "1         2\n",
       "2         2\n",
       "3         2\n",
       "4         2\n",
       "         ..\n",
       "438695    2\n",
       "438696    2\n",
       "438697    2\n",
       "438698    2\n",
       "438699    2\n",
       "Name: Severity, Length: 438700, dtype: int64"
      ]
     },
     "execution_count": 42,
     "metadata": {},
     "output_type": "execute_result"
    }
   ],
   "source": [
    "y_train"
   ]
  },
  {
   "cell_type": "code",
   "execution_count": 43,
   "metadata": {},
   "outputs": [
    {
     "name": "stdout",
     "output_type": "stream",
     "text": [
      "Submission was successfully saved!\n",
      "CPU times: user 2.04 s, sys: 33.2 ms, total: 2.07 s\n",
      "Wall time: 269 ms\n"
     ]
    }
   ],
   "source": [
    "%%time\n",
    "\n",
    "y_predict_poly_sgd_reg = sgd_reg.predict(TEST)\n",
    "\n",
    "output = pd.DataFrame({\"ID\": accident_ID, \"Severity\": y_predict_poly_sgd_reg})\n",
    "\n",
    "output.to_csv('submission_sgd_reg.csv', index=False)\n",
    "print(\"Submission was successfully saved!\")"
   ]
  },
  {
   "cell_type": "code",
   "execution_count": 44,
   "metadata": {},
   "outputs": [
    {
     "data": {
      "text/plain": [
       "array([2.70597405, 2.71788692, 2.7816361 , ..., 1.88807977, 2.13967544,\n",
       "       2.12079058])"
      ]
     },
     "execution_count": 44,
     "metadata": {},
     "output_type": "execute_result"
    }
   ],
   "source": [
    "y_predict_poly_sgd_reg"
   ]
  },
  {
   "cell_type": "markdown",
   "metadata": {},
   "source": [
    "# ✔️ Artficial Neural Network"
   ]
  },
  {
   "cell_type": "code",
   "execution_count": 45,
   "metadata": {
    "_kg_hide-output": true
   },
   "outputs": [
    {
     "name": "stdout",
     "output_type": "stream",
     "text": [
      "Defaulting to user installation because normal site-packages is not writeable\n",
      "Requirement already satisfied: tensorflow in /Users/s3879312/.local/lib/python3.8/site-packages (2.7.0)\n",
      "Requirement already satisfied: absl-py>=0.4.0 in /Users/s3879312/.local/lib/python3.8/site-packages (from tensorflow) (1.0.0)\n",
      "Requirement already satisfied: six>=1.12.0 in /Users/taa/opt/anaconda3/lib/python3.8/site-packages (from tensorflow) (1.15.0)\n",
      "Requirement already satisfied: termcolor>=1.1.0 in /Users/s3879312/.local/lib/python3.8/site-packages (from tensorflow) (1.1.0)\n",
      "Requirement already satisfied: libclang>=9.0.1 in /Users/s3879312/.local/lib/python3.8/site-packages (from tensorflow) (12.0.0)\n",
      "Requirement already satisfied: astunparse>=1.6.0 in /Users/s3879312/.local/lib/python3.8/site-packages (from tensorflow) (1.6.3)\n",
      "Requirement already satisfied: tensorflow-estimator<2.8,~=2.7.0rc0 in /Users/s3879312/.local/lib/python3.8/site-packages (from tensorflow) (2.7.0)\n",
      "Requirement already satisfied: numpy>=1.14.5 in /Users/taa/opt/anaconda3/lib/python3.8/site-packages (from tensorflow) (1.20.1)\n",
      "Requirement already satisfied: typing-extensions>=3.6.6 in /Users/taa/opt/anaconda3/lib/python3.8/site-packages (from tensorflow) (3.7.4.3)\n",
      "Requirement already satisfied: keras-preprocessing>=1.1.1 in /Users/s3879312/.local/lib/python3.8/site-packages (from tensorflow) (1.1.2)\n",
      "Requirement already satisfied: keras<2.8,>=2.7.0rc0 in /Users/s3879312/.local/lib/python3.8/site-packages (from tensorflow) (2.7.0)\n",
      "Requirement already satisfied: flatbuffers<3.0,>=1.12 in /Users/s3879312/.local/lib/python3.8/site-packages (from tensorflow) (2.0)\n",
      "Requirement already satisfied: google-pasta>=0.1.1 in /Users/s3879312/.local/lib/python3.8/site-packages (from tensorflow) (0.2.0)\n",
      "Requirement already satisfied: wheel<1.0,>=0.32.0 in /Users/taa/opt/anaconda3/lib/python3.8/site-packages (from tensorflow) (0.36.2)\n",
      "Requirement already satisfied: opt-einsum>=2.3.2 in /Users/s3879312/.local/lib/python3.8/site-packages (from tensorflow) (3.3.0)\n",
      "Requirement already satisfied: h5py>=2.9.0 in /Users/taa/opt/anaconda3/lib/python3.8/site-packages (from tensorflow) (2.10.0)\n",
      "Requirement already satisfied: grpcio<2.0,>=1.24.3 in /Users/s3879312/.local/lib/python3.8/site-packages (from tensorflow) (1.42.0)\n",
      "Requirement already satisfied: tensorflow-io-gcs-filesystem>=0.21.0 in /Users/s3879312/.local/lib/python3.8/site-packages (from tensorflow) (0.22.0)\n",
      "Requirement already satisfied: gast<0.5.0,>=0.2.1 in /Users/s3879312/.local/lib/python3.8/site-packages (from tensorflow) (0.4.0)\n",
      "Requirement already satisfied: tensorboard~=2.6 in /Users/s3879312/.local/lib/python3.8/site-packages (from tensorflow) (2.7.0)\n",
      "Requirement already satisfied: protobuf>=3.9.2 in /Users/s3879312/.local/lib/python3.8/site-packages (from tensorflow) (3.19.1)\n",
      "Requirement already satisfied: wrapt>=1.11.0 in /Users/taa/opt/anaconda3/lib/python3.8/site-packages (from tensorflow) (1.12.1)\n",
      "Requirement already satisfied: requests<3,>=2.21.0 in /Users/taa/opt/anaconda3/lib/python3.8/site-packages (from tensorboard~=2.6->tensorflow) (2.25.1)\n",
      "Requirement already satisfied: setuptools>=41.0.0 in /Users/taa/opt/anaconda3/lib/python3.8/site-packages (from tensorboard~=2.6->tensorflow) (52.0.0.post20210125)\n",
      "Requirement already satisfied: tensorboard-data-server<0.7.0,>=0.6.0 in /Users/s3879312/.local/lib/python3.8/site-packages (from tensorboard~=2.6->tensorflow) (0.6.1)\n",
      "Requirement already satisfied: werkzeug>=0.11.15 in /Users/taa/opt/anaconda3/lib/python3.8/site-packages (from tensorboard~=2.6->tensorflow) (1.0.1)\n",
      "Requirement already satisfied: markdown>=2.6.8 in /Users/s3879312/.local/lib/python3.8/site-packages (from tensorboard~=2.6->tensorflow) (3.3.6)\n",
      "Requirement already satisfied: google-auth<3,>=1.6.3 in /Users/s3879312/.local/lib/python3.8/site-packages (from tensorboard~=2.6->tensorflow) (2.3.3)\n",
      "Requirement already satisfied: tensorboard-plugin-wit>=1.6.0 in /Users/s3879312/.local/lib/python3.8/site-packages (from tensorboard~=2.6->tensorflow) (1.8.0)\n",
      "Requirement already satisfied: google-auth-oauthlib<0.5,>=0.4.1 in /Users/s3879312/.local/lib/python3.8/site-packages (from tensorboard~=2.6->tensorflow) (0.4.6)\n",
      "Requirement already satisfied: pyasn1-modules>=0.2.1 in /Users/s3879312/.local/lib/python3.8/site-packages (from google-auth<3,>=1.6.3->tensorboard~=2.6->tensorflow) (0.2.8)\n",
      "Requirement already satisfied: rsa<5,>=3.1.4 in /Users/s3879312/.local/lib/python3.8/site-packages (from google-auth<3,>=1.6.3->tensorboard~=2.6->tensorflow) (4.8)\n",
      "Requirement already satisfied: cachetools<5.0,>=2.0.0 in /Users/s3879312/.local/lib/python3.8/site-packages (from google-auth<3,>=1.6.3->tensorboard~=2.6->tensorflow) (4.2.4)\n",
      "Requirement already satisfied: requests-oauthlib>=0.7.0 in /Users/s3879312/.local/lib/python3.8/site-packages (from google-auth-oauthlib<0.5,>=0.4.1->tensorboard~=2.6->tensorflow) (1.3.0)\n",
      "Requirement already satisfied: importlib-metadata>=4.4 in /Users/s3879312/.local/lib/python3.8/site-packages (from markdown>=2.6.8->tensorboard~=2.6->tensorflow) (4.8.2)\n",
      "Requirement already satisfied: zipp>=0.5 in /Users/taa/opt/anaconda3/lib/python3.8/site-packages (from importlib-metadata>=4.4->markdown>=2.6.8->tensorboard~=2.6->tensorflow) (3.4.1)\n",
      "Requirement already satisfied: pyasn1<0.5.0,>=0.4.6 in /Users/s3879312/.local/lib/python3.8/site-packages (from pyasn1-modules>=0.2.1->google-auth<3,>=1.6.3->tensorboard~=2.6->tensorflow) (0.4.8)\n",
      "Requirement already satisfied: chardet<5,>=3.0.2 in /Users/taa/opt/anaconda3/lib/python3.8/site-packages (from requests<3,>=2.21.0->tensorboard~=2.6->tensorflow) (4.0.0)\n",
      "Requirement already satisfied: certifi>=2017.4.17 in /Users/taa/opt/anaconda3/lib/python3.8/site-packages (from requests<3,>=2.21.0->tensorboard~=2.6->tensorflow) (2020.12.5)\n",
      "Requirement already satisfied: idna<3,>=2.5 in /Users/taa/opt/anaconda3/lib/python3.8/site-packages (from requests<3,>=2.21.0->tensorboard~=2.6->tensorflow) (2.10)\n",
      "Requirement already satisfied: urllib3<1.27,>=1.21.1 in /Users/taa/opt/anaconda3/lib/python3.8/site-packages (from requests<3,>=2.21.0->tensorboard~=2.6->tensorflow) (1.26.4)\n",
      "Requirement already satisfied: oauthlib>=3.0.0 in /Users/s3879312/.local/lib/python3.8/site-packages (from requests-oauthlib>=0.7.0->google-auth-oauthlib<0.5,>=0.4.1->tensorboard~=2.6->tensorflow) (3.1.1)\n",
      "Epoch 1/20\n",
      "438700/438700 [==============================] - 352s 803us/step - loss: 0.3386 - val_loss: 0.2940\n",
      "Epoch 2/20\n",
      "438700/438700 [==============================] - 346s 788us/step - loss: 0.2950 - val_loss: 0.2851\n",
      "Epoch 3/20\n",
      "438700/438700 [==============================] - 341s 776us/step - loss: 0.2876 - val_loss: 0.2869\n",
      "Epoch 4/20\n",
      "438700/438700 [==============================] - 341s 777us/step - loss: 0.2829 - val_loss: 0.2773\n",
      "Epoch 5/20\n",
      "438700/438700 [==============================] - 341s 777us/step - loss: 0.2799 - val_loss: 0.2759\n",
      "Epoch 6/20\n",
      "438700/438700 [==============================] - 342s 781us/step - loss: 0.2776 - val_loss: 0.2729\n",
      "Epoch 7/20\n",
      "438700/438700 [==============================] - 349s 795us/step - loss: 0.2753 - val_loss: 0.2707\n",
      "Epoch 8/20\n",
      "438700/438700 [==============================] - 348s 793us/step - loss: 0.2735 - val_loss: 0.2693\n",
      "Epoch 9/20\n",
      "438700/438700 [==============================] - 347s 792us/step - loss: 0.2720 - val_loss: 0.2709\n",
      "Epoch 10/20\n",
      "438700/438700 [==============================] - 353s 805us/step - loss: 0.2711 - val_loss: 0.2679\n",
      "Epoch 11/20\n",
      "438700/438700 [==============================] - 353s 805us/step - loss: 0.2699 - val_loss: 0.2688\n",
      "Epoch 12/20\n",
      "438700/438700 [==============================] - 356s 811us/step - loss: 0.2688 - val_loss: 0.2662\n",
      "Epoch 13/20\n",
      "438700/438700 [==============================] - 352s 802us/step - loss: 0.2678 - val_loss: 0.2673\n",
      "Epoch 14/20\n",
      "438700/438700 [==============================] - 342s 780us/step - loss: 0.2669 - val_loss: 0.2662\n",
      "Epoch 15/20\n",
      "438700/438700 [==============================] - 400s 911us/step - loss: 0.2657 - val_loss: 0.2656\n",
      "Epoch 16/20\n",
      "438700/438700 [==============================] - 673s 2ms/step - loss: 0.2652 - val_loss: 0.2666\n",
      "Epoch 17/20\n",
      "438700/438700 [==============================] - 670s 2ms/step - loss: 0.2643 - val_loss: 0.2638\n",
      "Epoch 18/20\n",
      "438700/438700 [==============================] - 526s 1ms/step - loss: 0.2637 - val_loss: 0.2626\n",
      "Epoch 19/20\n",
      "438700/438700 [==============================] - 569s 1ms/step - loss: 0.2630 - val_loss: 0.2635\n",
      "Epoch 20/20\n",
      "438700/438700 [==============================] - 494s 1ms/step - loss: 0.2635 - val_loss: 0.2625\n",
      "CPU times: user 4h 23min 1s, sys: 4h 32min 17s, total: 8h 55min 18s\n",
      "Wall time: 2h 16min 38s\n"
     ]
    }
   ],
   "source": [
    "%%time\n",
    "\n",
    "# Install a pip package in the current Jupyter kernel\n",
    "import sys\n",
    "!{sys.executable} -m pip install tensorflow\n",
    "\n",
    "from tensorflow.keras.models import Sequential\n",
    "from tensorflow.keras.layers import Input, Dense, Activation, Dropout\n",
    "from tensorflow.keras.optimizers import Adam\n",
    "\n",
    "X_train = np.array(X_train)\n",
    "X_test = np.array(X_test)\n",
    "y_train = np.array(y_train)\n",
    "y_test = np.array(y_test)\n",
    "\n",
    "model = Sequential()\n",
    "\n",
    "model.add(Dense(X_train.shape[1], activation='relu'))\n",
    "model.add(Dense(32, activation='relu'))\n",
    "# model.add(Dropout(0.2))\n",
    "\n",
    "model.add(Dense(64, activation='relu'))\n",
    "# model.add(Dropout(0.2))\n",
    "\n",
    "model.add(Dense(128, activation='relu'))\n",
    "# model.add(Dropout(0.2))\n",
    "\n",
    "model.add(Dense(512, activation='relu'))\n",
    "model.add(Dropout(0.1))\n",
    "model.add(Dense(1))\n",
    "\n",
    "model.compile(optimizer=Adam(0.00001), loss='mse')\n",
    "\n",
    "r = model.fit(X_train, y_train,\n",
    "              validation_data=(X_test,y_test),\n",
    "              batch_size=1,\n",
    "              epochs=20)"
   ]
  },
  {
   "cell_type": "markdown",
   "metadata": {},
   "source": [
    "**---->OBSERVATION**"
   ]
  },
  {
   "cell_type": "code",
   "execution_count": 46,
   "metadata": {},
   "outputs": [],
   "source": [
    "# pd.DataFrame({'True Values': y_test, 'Predicted Values': pred}).hvplot.scatter(x='True Values', y='Predicted Values')"
   ]
  },
  {
   "cell_type": "code",
   "execution_count": 47,
   "metadata": {},
   "outputs": [],
   "source": [
    "# pd.DataFrame(r.history)"
   ]
  },
  {
   "cell_type": "code",
   "execution_count": 48,
   "metadata": {},
   "outputs": [],
   "source": [
    "# pd.DataFrame(r.history).hvplot.line(y=['loss', 'val_loss'])"
   ]
  },
  {
   "cell_type": "code",
   "execution_count": 49,
   "metadata": {},
   "outputs": [
    {
     "name": "stdout",
     "output_type": "stream",
     "text": [
      "Test set evaluation:\n",
      "_____________________________________\n",
      "MAE: 0.3019325046679614\n",
      "MSE: 0.2625949803777413\n",
      "RMSE: 0.5124402212724342\n",
      "R2 Square 0.29401632941219935\n",
      "__________________________________\n",
      "Train set evaluation:\n",
      "_____________________________________\n",
      "MAE: 0.3016122832640255\n",
      "MSE: 0.25808541410669983\n",
      "RMSE: 0.5080210764394523\n",
      "R2 Square 0.3112169163331887\n",
      "__________________________________\n",
      "CPU times: user 13.6 s, sys: 2.63 s, total: 16.2 s\n",
      "Wall time: 11.2 s\n"
     ]
    }
   ],
   "source": [
    "%%time\n",
    "\n",
    "test_pred = model.predict(X_test)\n",
    "train_pred = model.predict(X_train)\n",
    "\n",
    "print('Test set evaluation:\\n_____________________________________')\n",
    "print_evaluate(y_test, test_pred)\n",
    "\n",
    "print('Train set evaluation:\\n_____________________________________')\n",
    "print_evaluate(y_train, train_pred)"
   ]
  },
  {
   "cell_type": "code",
   "execution_count": 50,
   "metadata": {},
   "outputs": [
    {
     "data": {
      "text/html": [
       "<div>\n",
       "<style scoped>\n",
       "    .dataframe tbody tr th:only-of-type {\n",
       "        vertical-align: middle;\n",
       "    }\n",
       "\n",
       "    .dataframe tbody tr th {\n",
       "        vertical-align: top;\n",
       "    }\n",
       "\n",
       "    .dataframe thead th {\n",
       "        text-align: right;\n",
       "    }\n",
       "</style>\n",
       "<table border=\"1\" class=\"dataframe\">\n",
       "  <thead>\n",
       "    <tr style=\"text-align: right;\">\n",
       "      <th></th>\n",
       "      <th>Model</th>\n",
       "      <th>MAE</th>\n",
       "      <th>MSE</th>\n",
       "      <th>RMSE</th>\n",
       "      <th>R2 Square</th>\n",
       "      <th>Cross Validation</th>\n",
       "    </tr>\n",
       "  </thead>\n",
       "  <tbody>\n",
       "    <tr>\n",
       "      <th>0</th>\n",
       "      <td>Linear Regression</td>\n",
       "      <td>0.385317</td>\n",
       "      <td>0.325308</td>\n",
       "      <td>0.570358</td>\n",
       "      <td>0.125413</td>\n",
       "      <td>-0.091373</td>\n",
       "    </tr>\n",
       "    <tr>\n",
       "      <th>1</th>\n",
       "      <td>Ridge Regression</td>\n",
       "      <td>0.385279</td>\n",
       "      <td>0.325337</td>\n",
       "      <td>0.570383</td>\n",
       "      <td>0.125336</td>\n",
       "      <td>-0.091362</td>\n",
       "    </tr>\n",
       "    <tr>\n",
       "      <th>2</th>\n",
       "      <td>Lasso Regression</td>\n",
       "      <td>0.430102</td>\n",
       "      <td>0.369240</td>\n",
       "      <td>0.607651</td>\n",
       "      <td>0.007302</td>\n",
       "      <td>-0.304343</td>\n",
       "    </tr>\n",
       "    <tr>\n",
       "      <th>3</th>\n",
       "      <td>Elastic Net Regression</td>\n",
       "      <td>0.418730</td>\n",
       "      <td>0.355324</td>\n",
       "      <td>0.596091</td>\n",
       "      <td>0.044716</td>\n",
       "      <td>-0.322343</td>\n",
       "    </tr>\n",
       "    <tr>\n",
       "      <th>4</th>\n",
       "      <td>Stochastic Gradient Descent</td>\n",
       "      <td>0.385224</td>\n",
       "      <td>0.325349</td>\n",
       "      <td>0.570394</td>\n",
       "      <td>0.125302</td>\n",
       "      <td>0.000000</td>\n",
       "    </tr>\n",
       "    <tr>\n",
       "      <th>5</th>\n",
       "      <td>Artificial Neural Network</td>\n",
       "      <td>0.301933</td>\n",
       "      <td>0.262595</td>\n",
       "      <td>0.512440</td>\n",
       "      <td>0.294016</td>\n",
       "      <td>0.000000</td>\n",
       "    </tr>\n",
       "  </tbody>\n",
       "</table>\n",
       "</div>"
      ],
      "text/plain": [
       "                         Model       MAE       MSE      RMSE  R2 Square  \\\n",
       "0            Linear Regression  0.385317  0.325308  0.570358   0.125413   \n",
       "1             Ridge Regression  0.385279  0.325337  0.570383   0.125336   \n",
       "2             Lasso Regression  0.430102  0.369240  0.607651   0.007302   \n",
       "3       Elastic Net Regression  0.418730  0.355324  0.596091   0.044716   \n",
       "4  Stochastic Gradient Descent  0.385224  0.325349  0.570394   0.125302   \n",
       "5    Artificial Neural Network  0.301933  0.262595  0.512440   0.294016   \n",
       "\n",
       "   Cross Validation  \n",
       "0         -0.091373  \n",
       "1         -0.091362  \n",
       "2         -0.304343  \n",
       "3         -0.322343  \n",
       "4          0.000000  \n",
       "5          0.000000  "
      ]
     },
     "execution_count": 50,
     "metadata": {},
     "output_type": "execute_result"
    }
   ],
   "source": [
    "results_df_2 = pd.DataFrame(data=[[\"Artificial Neural Network\", *evaluate(y_test, test_pred), 0]],\n",
    "                            columns=['Model', 'MAE', 'MSE', 'RMSE', 'R2 Square', 'Cross Validation'])\n",
    "results_df = results_df.append(results_df_2, ignore_index=True)\n",
    "results_df"
   ]
  },
  {
   "cell_type": "code",
   "execution_count": 51,
   "metadata": {},
   "outputs": [
    {
     "name": "stdout",
     "output_type": "stream",
     "text": [
      "Submission was successfully saved!\n"
     ]
    }
   ],
   "source": [
    "y_predict_model_arti = model.predict(TEST)\n",
    "\n",
    "output = pd.DataFrame()\n",
    "output['ID'] = accident_ID\n",
    "output['Severity'] = y_predict_model_arti\n",
    "\n",
    "output.to_csv('submission_arti.csv', index=False)\n",
    "print(\"Submission was successfully saved!\")"
   ]
  },
  {
   "cell_type": "markdown",
   "metadata": {},
   "source": [
    "# ✔️ Random Forest Regressor"
   ]
  },
  {
   "cell_type": "code",
   "execution_count": 52,
   "metadata": {},
   "outputs": [
    {
     "name": "stdout",
     "output_type": "stream",
     "text": [
      "Test set evaluation:\n",
      "_____________________________________\n",
      "MAE: 0.2523832425404848\n",
      "MSE: 0.2033751729912665\n",
      "RMSE: 0.45097136604363974\n",
      "R2 Square 0.4532281198663245\n",
      "__________________________________\n",
      "Train set evaluation:\n",
      "_____________________________________\n",
      "MAE: 0.09691378742815826\n",
      "MSE: 0.03025646314054803\n",
      "RMSE: 0.1739438505396153\n",
      "R2 Square 0.919250996593779\n",
      "__________________________________\n",
      "CPU times: user 1h, sys: 3.99 s, total: 1h 4s\n",
      "Wall time: 1h 20s\n"
     ]
    }
   ],
   "source": [
    "%%time\n",
    "\n",
    "from sklearn.ensemble import RandomForestRegressor\n",
    "\n",
    "rf_reg = RandomForestRegressor(n_estimators=1000)\n",
    "rf_reg.fit(X_train, y_train)\n",
    "\n",
    "test_pred = rf_reg.predict(X_test)\n",
    "train_pred = rf_reg.predict(X_train)\n",
    "\n",
    "print('Test set evaluation:\\n_____________________________________')\n",
    "print_evaluate(y_test, test_pred)\n",
    "\n",
    "print('Train set evaluation:\\n_____________________________________')\n",
    "print_evaluate(y_train, train_pred)"
   ]
  },
  {
   "cell_type": "code",
   "execution_count": 53,
   "metadata": {},
   "outputs": [
    {
     "data": {
      "text/html": [
       "<div>\n",
       "<style scoped>\n",
       "    .dataframe tbody tr th:only-of-type {\n",
       "        vertical-align: middle;\n",
       "    }\n",
       "\n",
       "    .dataframe tbody tr th {\n",
       "        vertical-align: top;\n",
       "    }\n",
       "\n",
       "    .dataframe thead th {\n",
       "        text-align: right;\n",
       "    }\n",
       "</style>\n",
       "<table border=\"1\" class=\"dataframe\">\n",
       "  <thead>\n",
       "    <tr style=\"text-align: right;\">\n",
       "      <th></th>\n",
       "      <th>Model</th>\n",
       "      <th>MAE</th>\n",
       "      <th>MSE</th>\n",
       "      <th>RMSE</th>\n",
       "      <th>R2 Square</th>\n",
       "      <th>Cross Validation</th>\n",
       "    </tr>\n",
       "  </thead>\n",
       "  <tbody>\n",
       "    <tr>\n",
       "      <th>0</th>\n",
       "      <td>Linear Regression</td>\n",
       "      <td>0.385317</td>\n",
       "      <td>0.325308</td>\n",
       "      <td>0.570358</td>\n",
       "      <td>0.125413</td>\n",
       "      <td>-0.091373</td>\n",
       "    </tr>\n",
       "    <tr>\n",
       "      <th>1</th>\n",
       "      <td>Ridge Regression</td>\n",
       "      <td>0.385279</td>\n",
       "      <td>0.325337</td>\n",
       "      <td>0.570383</td>\n",
       "      <td>0.125336</td>\n",
       "      <td>-0.091362</td>\n",
       "    </tr>\n",
       "    <tr>\n",
       "      <th>2</th>\n",
       "      <td>Lasso Regression</td>\n",
       "      <td>0.430102</td>\n",
       "      <td>0.369240</td>\n",
       "      <td>0.607651</td>\n",
       "      <td>0.007302</td>\n",
       "      <td>-0.304343</td>\n",
       "    </tr>\n",
       "    <tr>\n",
       "      <th>3</th>\n",
       "      <td>Elastic Net Regression</td>\n",
       "      <td>0.418730</td>\n",
       "      <td>0.355324</td>\n",
       "      <td>0.596091</td>\n",
       "      <td>0.044716</td>\n",
       "      <td>-0.322343</td>\n",
       "    </tr>\n",
       "    <tr>\n",
       "      <th>4</th>\n",
       "      <td>Stochastic Gradient Descent</td>\n",
       "      <td>0.385224</td>\n",
       "      <td>0.325349</td>\n",
       "      <td>0.570394</td>\n",
       "      <td>0.125302</td>\n",
       "      <td>0.000000</td>\n",
       "    </tr>\n",
       "    <tr>\n",
       "      <th>5</th>\n",
       "      <td>Artificial Neural Network</td>\n",
       "      <td>0.301933</td>\n",
       "      <td>0.262595</td>\n",
       "      <td>0.512440</td>\n",
       "      <td>0.294016</td>\n",
       "      <td>0.000000</td>\n",
       "    </tr>\n",
       "    <tr>\n",
       "      <th>6</th>\n",
       "      <td>Random Forest Regressor</td>\n",
       "      <td>0.252383</td>\n",
       "      <td>0.203375</td>\n",
       "      <td>0.450971</td>\n",
       "      <td>0.453228</td>\n",
       "      <td>0.000000</td>\n",
       "    </tr>\n",
       "  </tbody>\n",
       "</table>\n",
       "</div>"
      ],
      "text/plain": [
       "                         Model       MAE       MSE      RMSE  R2 Square  \\\n",
       "0            Linear Regression  0.385317  0.325308  0.570358   0.125413   \n",
       "1             Ridge Regression  0.385279  0.325337  0.570383   0.125336   \n",
       "2             Lasso Regression  0.430102  0.369240  0.607651   0.007302   \n",
       "3       Elastic Net Regression  0.418730  0.355324  0.596091   0.044716   \n",
       "4  Stochastic Gradient Descent  0.385224  0.325349  0.570394   0.125302   \n",
       "5    Artificial Neural Network  0.301933  0.262595  0.512440   0.294016   \n",
       "6      Random Forest Regressor  0.252383  0.203375  0.450971   0.453228   \n",
       "\n",
       "   Cross Validation  \n",
       "0         -0.091373  \n",
       "1         -0.091362  \n",
       "2         -0.304343  \n",
       "3         -0.322343  \n",
       "4          0.000000  \n",
       "5          0.000000  \n",
       "6          0.000000  "
      ]
     },
     "execution_count": 53,
     "metadata": {},
     "output_type": "execute_result"
    }
   ],
   "source": [
    "results_df_2 = pd.DataFrame(data=[[\"Random Forest Regressor\", *evaluate(y_test, test_pred), 0]], \n",
    "                            columns=['Model', 'MAE', 'MSE', 'RMSE', 'R2 Square', 'Cross Validation'])\n",
    "results_df = results_df.append(results_df_2, ignore_index=True)\n",
    "results_df"
   ]
  },
  {
   "cell_type": "code",
   "execution_count": 54,
   "metadata": {},
   "outputs": [
    {
     "name": "stdout",
     "output_type": "stream",
     "text": [
      "Submission was successfully saved!\n"
     ]
    }
   ],
   "source": [
    "y_predict_rf_reg = rf_reg.predict(TEST)\n",
    "\n",
    "output = pd.DataFrame()\n",
    "output['ID'] = accident_ID\n",
    "output['Severity'] = y_predict_rf_reg\n",
    "\n",
    "output.to_csv('submission_rf_reg.csv', index=False)\n",
    "print(\"Submission was successfully saved!\")"
   ]
  },
  {
   "cell_type": "markdown",
   "metadata": {},
   "source": [
    "# 📊 Models Comparison"
   ]
  },
  {
   "cell_type": "code",
   "execution_count": 55,
   "metadata": {},
   "outputs": [
    {
     "data": {
      "text/plain": [
       "<AxesSubplot:ylabel='Model'>"
      ]
     },
     "execution_count": 55,
     "metadata": {},
     "output_type": "execute_result"
    },
    {
     "data": {
      "image/png": "[encoded data removed]",
      "text/plain": [
       "<Figure size 864x576 with 1 Axes>"
      ]
     },
     "metadata": {
      "needs_background": "light"
     },
     "output_type": "display_data"
    }
   ],
   "source": [
    "results_df.set_index('Model', inplace=True)\n",
    "results_df['R2 Square'].plot(kind='barh', figsize=(12, 8))"
   ]
  },
  {
   "cell_type": "markdown",
   "metadata": {
    "papermill": {
     "duration": 0.104925,
     "end_time": "2021-12-08T11:46:46.180841",
     "exception": false,
     "start_time": "2021-12-08T11:46:46.075916",
     "status": "completed"
    },
    "tags": []
   },
   "source": [
    "## Observe TEST predictions"
   ]
  },
  {
   "cell_type": "code",
   "execution_count": 56,
   "metadata": {
    "papermill": {
     "duration": 0.129427,
     "end_time": "2021-12-08T11:46:46.413863",
     "exception": false,
     "start_time": "2021-12-08T11:46:46.284436",
     "status": "completed"
    },
    "tags": []
   },
   "outputs": [],
   "source": [
    "# All = pd.DataFrame()\n",
    "# output['ID'] = accident_ID\n",
    "# # All = pd.DataFrame({\"ID\": accident_ID, \"LinearRegression\": y_predict_model_lin_reg, \"SGDRegressor\": y_predict_poly_sgd_reg, \"ArtificialNeuralNetwork\": y_predict_model_arti, \"RandomForestRegressor\":y_predict_rf_reg})\n",
    "# All['Voting']=All[[accident_ID, y_predict_model_lin_reg, y_predict_poly_sgd_reg, y_predict_model_arti, y_predict_rf_reg]].mean(axis=1)\n",
    "\n",
    "# # output.to_csv('submission_arti.csv', index=False)\n",
    "# All.head(10)"
   ]
  },
  {
   "cell_type": "code",
   "execution_count": 57,
   "metadata": {
    "papermill": {
     "duration": 0.632862,
     "end_time": "2021-12-08T11:46:47.151039",
     "exception": false,
     "start_time": "2021-12-08T11:46:46.518177",
     "status": "completed"
    },
    "tags": []
   },
   "outputs": [],
   "source": [
    "# from matplotlib import pyplot as plt\n",
    "# disp = 150\n",
    "# fig, ax = plt.subplots(figsize=(30,10))  \n",
    "# for col in All.columns[1:].tolist():\n",
    "#     plt.scatter(x = All[:disp].ID, y= All[:disp][col], alpha=0.8)\n",
    "#     plt.legend(All.columns[1:].tolist())\n",
    "\n",
    "# plt.show()"
   ]
  },
  {
   "cell_type": "code",
   "execution_count": 58,
   "metadata": {},
   "outputs": [
    {
     "name": "stdout",
     "output_type": "stream",
     "text": [
      "INFO:tensorflow:Assets written to: ram://69b7728e-f24d-4060-88e1-f67979d286c9/assets\n"
     ]
    },
    {
     "data": {
      "text/plain": [
       "['RandomForest.pkl']"
      ]
     },
     "execution_count": 58,
     "metadata": {},
     "output_type": "execute_result"
    }
   ],
   "source": [
    "import joblib\n",
    " \n",
    "# Save the model as a pickle in a file\n",
    "joblib.dump(lin_reg, 'lin_reg.pkl')\n",
    "joblib.dump(model, 'arti.pkl')\n",
    "joblib.dump(rf_reg, 'RandomForest.pkl')"
   ]
  },
  {
   "cell_type": "markdown",
   "metadata": {
    "jp-MarkdownHeadingCollapsed": true,
    "pycharm": {
     "name": "#%% md\n"
    },
    "tags": []
   },
   "source": [
    "# 📝 Summary\n",
    "In this notebook you discovered the linear regression algorithm for machine learning.\n",
    "\n",
    "You covered a lot of ground including:\n",
    "> - The common linear regression models (Ridge, Lasso, ElasticNet, ...).\n",
    "> - The representation used by the model.\n",
    "> - Learning algorithms used to estimate the coefficients in the model.\n",
    "> - Rules of thumb to consider when preparing data for use with linear regression.\n",
    "> - How to evaluate a linear regression model.\n",
    "\n",
    "\n",
    "# 🔗 References:\n",
    "- [Scikit-learn library](https://scikit-learn.org/stable/supervised_learning.html#supervised-learning)\n",
    "- [Linear Regression for Machine Learning by Jason Brownlee PhD](https://machinelearningmastery.com/linear-regression-for-machine-learning/)"
   ]
  }
 ],
 "metadata": {
  "kernelspec": {
   "display_name": "Python 3",
   "language": "python",
   "name": "python3"
  },
  "language_info": {
   "codemirror_mode": {
    "name": "ipython",
    "version": 3
   },
   "file_extension": ".py",
   "mimetype": "text/x-python",
   "name": "python",
   "nbconvert_exporter": "python",
   "pygments_lexer": "ipython3",
   "version": "3.8.8"
  },
  "papermill": {
   "duration": 152.583528,
   "end_time": "2020-11-05T19:52:15.271755",
   "environment_variables": {},
   "exception": null,
   "input_path": "__notebook__.ipynb",
   "output_path": "__notebook__.ipynb",
   "parameters": {},
   "start_time": "2020-11-05T19:49:42.688227",
   "version": "2.1.0"
  }
 },
 "nbformat": 4,
 "nbformat_minor": 4
}
